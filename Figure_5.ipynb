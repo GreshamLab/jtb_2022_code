{
 "cells": [
  {
   "cell_type": "code",
   "execution_count": 1,
   "metadata": {},
   "outputs": [],
   "source": [
    "### JUPYTER NOTEBOOK / MODULE PATH FIX ###\n",
    "import sys\n",
    "\n",
    "if \"/share/apps/python/3.8.6/intel/lib/python3.8\" in sys.path and sys.path[1] == '':\n",
    "    sys.path[1], sys.path[6] = sys.path[6], sys.path[1]"
   ]
  },
  {
   "cell_type": "code",
   "execution_count": 4,
   "metadata": {},
   "outputs": [],
   "source": [
    "from jtb_2022_code.utils.figure_common import *\n",
    "from jtb_2022_code.utils.adata_common import *\n",
    "from jtb_2022_code.utils.pseudotime_common import *\n",
    "from jtb_2022_code.utils.decay_common import calc_decays, calc_halflives, calc_decay_windows, _halflife\n",
    "from jtb_2022_code import FigureSingleCellData\n",
    "from inferelator_velocity import decay\n",
    "import numpy as np\n",
    "import pandas as pd"
   ]
  },
  {
   "cell_type": "code",
   "execution_count": 5,
   "metadata": {},
   "outputs": [
    {
     "name": "stdout",
     "output_type": "stream",
     "text": [
      "Reading Single Cell Data from /scratch/cj59/RAPA/2021_RAPA_TIMECOURSE_FIGS.h5ad\n",
      "Reading Single Cell Experiment Data from /scratch/cj59/RAPA/2021_RAPA_TIMECOURSE_FIGS_1_WT.h5ad\n",
      "Reading Single Cell Experiment Data from /scratch/cj59/RAPA/2021_RAPA_TIMECOURSE_FIGS_1_fpr1.h5ad\n",
      "Reading Single Cell Experiment Data from /scratch/cj59/RAPA/2021_RAPA_TIMECOURSE_FIGS_2_WT.h5ad\n",
      "Reading Single Cell Experiment Data from /scratch/cj59/RAPA/2021_RAPA_TIMECOURSE_FIGS_2_fpr1.h5ad\n"
     ]
    }
   ],
   "source": [
    "## LOAD AND PROCESS VELOCITY AND DECAY ###\n",
    "data = FigureSingleCellData()\n",
    "data.load_pseudotime(do_rho=False)\n",
    "\n",
    "# Copy cell cycle time to main object\n",
    "data.all_data.obs['program_cc_time'] = 0\n",
    "for _, e in data.expt_data.items():\n",
    "    data.all_data.obs.loc[e.obs_names, 'program_cc_time'] = e.obs['program_cc_time']"
   ]
  },
  {
   "cell_type": "code",
   "execution_count": null,
   "metadata": {},
   "outputs": [],
   "source": [
    "# Load velocity data\n",
    "velo_arr = np.vstack([data.velocity_data(i, \"WT\").layers['cell_cycle_velocity'] for i in range(1, 3)])\n",
    "velo_times = np.hstack([data.expt_data[(i, \"WT\")].obs['program_cc_time'].values for i in range(1, 3)])\n",
    "velo_12_idx =  np.hstack([(data.expt_data[(i, \"WT\")].obs['Pool_Combined'] == '12').values for i in range(1, 3)])\n",
    "\n",
    "#denoised_arr = np.vstack([data.denoised_data(i, \"WT\").X for i in range(1, 3)])\n",
    "#denoised_times = np.hstack([data.expt_data[(i, \"WT\")].obs['program_cc_time'].values for i in range(1, 3)])\n",
    "#denoised_12_idx =  np.hstack([(data.expt_data[(i, \"WT\")].obs['Pool_Combined'] == '12').values for i in range(1, 3)])"
   ]
  },
  {
   "cell_type": "code",
   "execution_count": null,
   "metadata": {},
   "outputs": [],
   "source": [
    "import matplotlib\n",
    "import matplotlib.pyplot as plt\n",
    "import matplotlib.cm as cm\n",
    "import matplotlib.colors as colors\n",
    "\n",
    "import inferelator_velocity as ifv\n",
    "\n",
    "rgen = np.random.default_rng(100)\n",
    "\n",
    "rep_colors = ['darkslateblue', 'darkgoldenrod']\n",
    "\n",
    "panel_labels = {'schematic': \"A\",\n",
    "                'expr_1': \"B\",\n",
    "                'velocity_1': \"C\",\n",
    "                'decay_1': \"D\",\n",
    "                'decaytime_1': \"E\"}\n",
    "\n",
    "layout = [['expr', 'velo', 'cc_cbar']]\n",
    "\n",
    "fig_refs = {}\n",
    "\n",
    "fig, axd = plt.subplot_mosaic(layout,\n",
    "                              gridspec_kw=dict(width_ratios=[1, 1, 0.1], \n",
    "                                               height_ratios=[1],\n",
    "                                               wspace=0.25, hspace=0.5), \n",
    "                              figsize=(6, 2), dpi=300)\n",
    "\n",
    "add_legend(axd['cc_cbar'], cc_palette(), CC_COLS, title=\"Phase\", fontsize='x-small')\n",
    "\n",
    "_wt_idx = (data.all_data.obs['Gene'] == \"WT\").values\n",
    "#_12_idx = ((data.all_data.obs['Pool'] == 1 ) | (data.all_data.obs['Pool'] == 2)).values\n",
    "\n",
    "for i, cc in enumerate(CC_COLS):\n",
    "    _cc_idx = data.all_data.var[cc]\n",
    "    \n",
    "    ### EXPRESSION ###\n",
    "    _cc_data = data.all_data.layers['counts'][:, _cc_idx].astype(float).A\n",
    "    _cc_data /= data.all_data.obs['n_counts'].values[:, np.newaxis]\n",
    "    _cc_data = np.sum(_cc_data, axis=1)\n",
    "    \n",
    "    #_cc_data = np.sum(denoised_arr[:, _cc_idx], axis=1)\n",
    "    \n",
    "    #times = data.all_data.obs['program_cc_time'].values[_wt_idx]\n",
    "    times = data.all_data.obs['program_cc_time'].values[_wt_idx]\n",
    "    times = (times + 44) % 88\n",
    "\n",
    "    _cc_data, _cc_time = ifv.utils.aggregate_sliding_window_times(\n",
    "        _cc_data[_wt_idx][velo_12_idx],\n",
    "        times[velo_12_idx],\n",
    "        centers=np.linspace(0.5, CC_LENGTH - 0.5, int(CC_LENGTH / 2)),\n",
    "        width=2.,\n",
    "        agg_func=(np.mean, np.std)\n",
    "    )\n",
    "    \n",
    "    #_cc_data, _cc_time = aggregate_sliding_window_times(\n",
    "    #    _cc_data,\n",
    "    #    denoised_times,\n",
    "    #    centers=np.linspace(0.5, CC_LENGTH - 0.5, int(CC_LENGTH / 2)),\n",
    "    #    width=2.,\n",
    "    #    agg_func=(np.mean, np.std)\n",
    "    #)\n",
    "\n",
    "    _cc_data = _cc_data / _cc_data[:, 0].max()\n",
    "\n",
    "    axd['expr'].plot(_cc_time,\n",
    "                 _cc_data[:, 0], \n",
    "                 alpha=0.7,\n",
    "                 marker=\".\", \n",
    "                 linestyle='-', \n",
    "                 color=cc_palette()[i]\n",
    "                )\n",
    "\n",
    "    #axd['expr'].fill_between(_cc_time,\n",
    "    #             _cc_data[:, 0] - _cc_data[:, 1], \n",
    "    #             _cc_data[:, 0] + _cc_data[:, 1], \n",
    "    #             alpha=0.2,\n",
    "    #             color=cc_palette()[i]\n",
    "    #            )\n",
    "\n",
    "    axd['expr'].set_xlim(0, CC_LENGTH)\n",
    "    axd['expr'].set_ylim(0, 1)\n",
    "    axd['expr'].set_yticks([0.0, 0.5, 1.0])\n",
    "    axd['expr'].set_xticks([7, 22, 40, 57, 78])\n",
    "    axd['expr'].set_title(\"Expression\")\n",
    "    \n",
    "    vtimes = (velo_times + 44) % 88\n",
    "    \n",
    "    ### VELOCITY ###\n",
    "    _cc_data, _cc_time = ifv.utils.aggregate_sliding_window_times(\n",
    "        #velo_arr[:, _cc_idx], \n",
    "        velo_arr[velo_12_idx, :][:, _cc_idx],\n",
    "        #velo_times, \n",
    "        vtimes[velo_12_idx],\n",
    "        centers=np.linspace(0.5, CC_LENGTH - 0.5, CC_LENGTH),\n",
    "        width=1.,\n",
    "        agg_func=(np.mean, np.std)\n",
    "    )\n",
    "    \n",
    "    #_cc_data[_cc_data[:, 0] >= 0] /= _cc_data[_cc_data[:, 0] >= 0, 0].max()\n",
    "    #_cc_data[_cc_data[:, 0] < 0] /=_cc_data[_cc_data[:, 0] < 0, 0].min() * -1\n",
    "    _cc_data /= np.abs(_cc_data[:, 0]).max()\n",
    "    \n",
    "    axd['velo'].plot(_cc_time,\n",
    "                 _cc_data[:, 0], \n",
    "                 alpha=0.7,\n",
    "                 marker=\".\", \n",
    "                 linestyle='-', \n",
    "                 color=cc_palette()[i]\n",
    "                )\n",
    "    \n",
    "    axd['velo'].set_xlim(0, CC_LENGTH)\n",
    "    axd['velo'].set_ylim(-1, 1)\n",
    "    axd['velo'].set_yticks([-1, 0.0,1.0])\n",
    "    axd['velo'].set_xticks([7, 22, 40, 57, 78])\n",
    "    axd['velo'].set_title(\"Velocity\")"
   ]
  },
  {
   "cell_type": "code",
   "execution_count": 6,
   "metadata": {},
   "outputs": [],
   "source": [
    "import numpy as _np\n",
    "from scipy.sparse import issparse as _is_sparse\n",
    "from tqdm import trange\n",
    "\n",
    "def calc_velocity(expr, time_axis, neighbor_graph, wrap_time=None):\n",
    "    \"\"\"\n",
    "    Calculate local RNA velocity\n",
    "\n",
    "    :param expr: Samples x Genes numpy with expression data\n",
    "    :param time_axis: Samples, numpy array\n",
    "    :param neighbor_graph: Samples x Samples numpy or scipy.sparse with nearest neighbor distances\n",
    "    :return: Samples x Genes numpy with velocity data\n",
    "    \"\"\"\n",
    "\n",
    "    times = [_calc_local_velocity(expr[n_idx, :].copy(),\n",
    "                                  time_axis[n_idx].copy(),\n",
    "                                  (n_idx == i).nonzero()[0][0],\n",
    "                                  wrap_time=wrap_time)\n",
    "             for i, n_idx in _find_local(expr, neighbor_graph)]\n",
    "    \n",
    "    shape_1 = max(map(len, times))\n",
    "    \n",
    "    times = [np.concatenate((x, np.zeros(shape_1 - len(x), dtype=float)))\n",
    "             for x in times]\n",
    "    \n",
    "    return np.vstack(times)\n",
    "\n",
    "\n",
    "def _calc_local_velocity(expr, time_axis, center_index, wrap_time=None):\n",
    "    \"\"\"\n",
    "    Calculate a local rate of change\n",
    "\n",
    "    :param expr: Samples x Genes numpy with expression data\n",
    "    :param time_axis: Samples, numpy array\n",
    "    :param center_index: The data point which we're calculating velocity for\n",
    "    :return:\n",
    "    \"\"\"\n",
    "\n",
    "    n, m = expr.shape\n",
    "\n",
    "    if _np.isnan(time_axis[center_index]):\n",
    "        return _np.full(m, _np.nan)\n",
    "\n",
    "    time_axis = time_axis - time_axis[center_index]\n",
    "\n",
    "    if wrap_time is not None:\n",
    "        time_axis = _wrap_time(time_axis, wrap_time)\n",
    "\n",
    "    return time_axis\n",
    "\n",
    "\n",
    "def _find_local(expr, neighbor_graph):\n",
    "    \"\"\"\n",
    "    Find a return an expression matrix for a locally connected graph\n",
    "\n",
    "    :param expr: Samples x Genes numpy or scipy with expression data\n",
    "    :type expr: np.ndarray, sp.sparse.csr_matrix\n",
    "    :param neighbor_graph: Samples x Samples connectivity matrix,\n",
    "        where any non-zero value is connected.\n",
    "    :return:\n",
    "    \"\"\"\n",
    "\n",
    "    n, m = expr.shape\n",
    "    neighbor_sparse = _is_sparse(neighbor_graph)\n",
    "\n",
    "    for i in trange(n):\n",
    "\n",
    "        n_slice = neighbor_graph[i, :]\n",
    "\n",
    "        if neighbor_sparse:\n",
    "            keepers = n_slice.indices\n",
    "        else:\n",
    "            keepers = _np.where(n_slice != 0)[0]\n",
    "\n",
    "        if all(keepers != i):\n",
    "            keepers = _np.insert(keepers, 0, i)\n",
    "\n",
    "        yield i, keepers\n",
    "\n",
    "\n",
    "def _wrap_time(times, wrap_time):\n",
    "    \"\"\"\n",
    "    Wrap times by taking the minimum time difference\n",
    "    with and without wrapping\n",
    "\n",
    "    :param times: Centered time vector\n",
    "    :type times: np.ndarray\n",
    "    :param wrap_time: Time to wrap at\n",
    "    :type wrap_time: numeric\n",
    "    :return: Wrapped time vector\n",
    "    :rtype: np.ndarray\n",
    "    \"\"\"\n",
    "\n",
    "    times = _np.vstack((\n",
    "        times + wrap_time,\n",
    "        times,\n",
    "        times - wrap_time\n",
    "    ))\n",
    "\n",
    "    times = times[\n",
    "        _np.argmin(\n",
    "            _np.abs(times),\n",
    "            axis=0\n",
    "        ),\n",
    "        _np.arange(\n",
    "            times.shape[1]\n",
    "        )\n",
    "    ]\n",
    "\n",
    "    return times\n"
   ]
  },
  {
   "cell_type": "code",
   "execution_count": 7,
   "metadata": {},
   "outputs": [
    {
     "name": "stdout",
     "output_type": "stream",
     "text": [
      "Loading denoised data from /scratch/cj59/RAPA/2021_RAPA_DENOISED_FIGS_1_WT.h5ad\n"
     ]
    },
    {
     "data": {
      "text/plain": [
       "AnnData object with n_obs × n_vars = 63533 × 5747\n",
       "    obs: 'Gene', 'Replicate', 'Pool', 'Experiment', 'n_counts', 'n_genes', 'CC', 'RP', 'RiBi', 'iESR', 'Mito', 'Cell Cycle', 'Other', 'Pool_Combined', 'program_0_time', 'program_1_time', 'program_rapa_time', 'program_cc_time', 'denoised_leiden', 'denoised_n'\n",
       "    var: 'n_cells', 'CommonName', 'G1', 'G2', 'M', 'M-G1', 'Mito', 'RP', 'RiBi', 'S', 'iESR', 'Cell Cycle', 'Other', 'category', 'program', 'denoised_SNR', 'denoised_variance'\n",
       "    uns: 'denoised', 'denoised_SNR', 'denoised_variance', 'leiden', 'log1p', 'neighbors', 'pca'\n",
       "    obsm: 'denoised_pca'\n",
       "    varm: 'PCs'\n",
       "    obsp: 'connectivities', 'denoised_connectivities', 'denoised_distances', 'denoised_graph', 'distances', 'optimal_distances'"
      ]
     },
     "execution_count": 7,
     "metadata": {},
     "output_type": "execute_result"
    }
   ],
   "source": [
    "denoised_1 = data.denoised_data(1, \"WT\")\n",
    "denoised_1"
   ]
  },
  {
   "cell_type": "code",
   "execution_count": 16,
   "metadata": {},
   "outputs": [],
   "source": [
    "for e, g in data.expt_data.keys():\n",
    "    data.expt_data[e, g].obs[['Pool', 'CC', 'program_rapa_time', 'program_cc_time']].to_csv(f\"/scratch/cj59/RAPA/RAPA_DENOISED_{e}_{g}_metadata.tsv.gz\", sep=\"\\t\")"
   ]
  },
  {
   "cell_type": "code",
   "execution_count": null,
   "metadata": {},
   "outputs": [],
   "source": [
    "data.expt_data[1, \"WT\"]"
   ]
  },
  {
   "cell_type": "code",
   "execution_count": 8,
   "metadata": {},
   "outputs": [
    {
     "name": "stderr",
     "output_type": "stream",
     "text": [
      "100%|██████████| 63533/63533 [00:49<00:00, 1280.25it/s]\n",
      "100%|██████████| 63533/63533 [01:06<00:00, 961.37it/s]\n"
     ]
    }
   ],
   "source": [
    "#graph = denoised_1.obsp['denoised_distances']\n",
    "graph = data.expt_data[1, \"WT\"].obsp['program_cc_distances']\n",
    "\n",
    "t = calc_velocity(denoised_1.X,\n",
    "                  data.expt_data[1, \"WT\"].obs['program_cc_time'],\n",
    "                  graph)\n",
    "\n",
    "t_min = np.argsort(data.expt_data[1, \"WT\"].obs['program_cc_time'])[0]\n",
    "t = t[np.argsort(data.expt_data[1, \"WT\"].obs['program_cc_time']), :]\n",
    "\n",
    "twrap = calc_velocity(denoised_1.X,\n",
    "                  data.expt_data[1, \"WT\"].obs['program_cc_time'],\n",
    "                  graph,\n",
    "                  wrap_time=88)\n",
    "\n",
    "twrap = twrap[np.argsort(data.expt_data[1, \"WT\"].obs['program_cc_time']), :]\n"
   ]
  },
  {
   "cell_type": "code",
   "execution_count": 15,
   "metadata": {},
   "outputs": [
    {
     "data": {
      "text/plain": [
       "<AxesSubplot:xlabel='program_cc_time'>"
      ]
     },
     "execution_count": 15,
     "metadata": {},
     "output_type": "execute_result"
    },
    {
     "data": {
      "image/png": "[encoded data removed]",
      "text/plain": [
       "<Figure size 432x288 with 1 Axes>"
      ]
     },
     "metadata": {
      "needs_background": "light"
     },
     "output_type": "display_data"
    }
   ],
   "source": [
    "import seaborn as sns\n",
    "\n",
    "sns.scatterplot(x=data.expt_data[1, \"WT\"].obs['program_cc_time'].iloc[np.argsort(data.expt_data[1, \"WT\"].obs['program_cc_time'])],\n",
    "                y=np.abs(twrap).mean(axis=1),\n",
    "                c=data.expt_data[1, \"WT\"].obs['CC'].cat.codes, alpha=0.1)"
   ]
  },
  {
   "cell_type": "code",
   "execution_count": null,
   "metadata": {},
   "outputs": [],
   "source": [
    "loc = t.shape[0]"
   ]
  },
  {
   "cell_type": "code",
   "execution_count": null,
   "metadata": {},
   "outputs": [],
   "source": [
    "np.abs(twrap[loc - 100:loc-1, :]).mean(axis=1)"
   ]
  },
  {
   "cell_type": "code",
   "execution_count": null,
   "metadata": {},
   "outputs": [],
   "source": [
    "data.expt_data[1, \"WT\"].obs['program_cc_time'].iloc[t_min]"
   ]
  },
  {
   "cell_type": "code",
   "execution_count": null,
   "metadata": {},
   "outputs": [],
   "source": [
    "data.expt_data[1, \"WT\"].obs['program_cc_time'].iloc[denoised_1.obsp['denoised_distances'][t_min, :].indices]"
   ]
  },
  {
   "cell_type": "code",
   "execution_count": null,
   "metadata": {},
   "outputs": [],
   "source": [
    "t"
   ]
  }
 ],
 "metadata": {
  "kernelspec": {
   "display_name": "Python 3 (ipykernel)",
   "language": "python",
   "name": "python3"
  },
  "language_info": {
   "codemirror_mode": {
    "name": "ipython",
    "version": 3
   },
   "file_extension": ".py",
   "mimetype": "text/x-python",
   "name": "python",
   "nbconvert_exporter": "python",
   "pygments_lexer": "ipython3",
   "version": "3.8.6"
  }
 },
 "nbformat": 4,
 "nbformat_minor": 4
}
