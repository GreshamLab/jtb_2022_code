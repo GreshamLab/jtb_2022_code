{
 "cells": [
  {
   "cell_type": "code",
   "execution_count": 1,
   "metadata": {},
   "outputs": [],
   "source": [
    "### JUPYTER NOTEBOOK / MODULE PATH FIX ###\n",
    "import sys\n",
    "\n",
    "if \"/share/apps/python/3.8.6/intel/lib/python3.8\" in sys.path and sys.path[1] == '':\n",
    "    sys.path[1], sys.path[6] = sys.path[6], sys.path[1]"
   ]
  },
  {
   "cell_type": "code",
   "execution_count": 2,
   "metadata": {},
   "outputs": [],
   "source": [
    "from jtb_2022_code.utils.figure_common import *\n",
    "from jtb_2022_code.utils.adata_common import *\n",
    "from jtb_2022_code.utils.pseudotime_common import *\n",
    "from jtb_2022_code import FigureSingleCellData\n",
    "import numpy as np"
   ]
  },
  {
   "cell_type": "code",
   "execution_count": 3,
   "metadata": {},
   "outputs": [
    {
     "name": "stdout",
     "output_type": "stream",
     "text": [
      "Reading Single Cell Data from /scratch/cj59/RAPA/2021_RAPA_TIMECOURSE_FIGS.h5ad\n",
      "Reading Single Cell Experiment Data from /scratch/cj59/RAPA/2021_RAPA_TIMECOURSE_FIGS_1_WT.h5ad\n",
      "Reading Single Cell Experiment Data from /scratch/cj59/RAPA/2021_RAPA_TIMECOURSE_FIGS_1_fpr1.h5ad\n",
      "Reading Single Cell Experiment Data from /scratch/cj59/RAPA/2021_RAPA_TIMECOURSE_FIGS_2_WT.h5ad\n",
      "Reading Single Cell Experiment Data from /scratch/cj59/RAPA/2021_RAPA_TIMECOURSE_FIGS_2_fpr1.h5ad\n"
     ]
    }
   ],
   "source": [
    "## LOAD AND PROCESS UMAP FOR UMAP PANELS ###\n",
    "data = FigureSingleCellData()\n",
    "\n",
    "#def remove_velocity(x):\n",
    "#    del x.layers['denoised_velocity']\n",
    "\n",
    "#data.apply_inplace_to_expts(calculate_times_velocities, \n",
    "#                            layer='denoised',\n",
    "#                            transform_expr=np.expm1,\n",
    "#                            distance_key='denoised_distances')"
   ]
  },
  {
   "cell_type": "code",
   "execution_count": 4,
   "metadata": {},
   "outputs": [],
   "source": [
    "from inferelator_prior.velocity import decay"
   ]
  },
  {
   "cell_type": "code",
   "execution_count": 5,
   "metadata": {},
   "outputs": [
    {
     "data": {
      "text/plain": [
       "AnnData object with n_obs × n_vars = 63533 × 5747\n",
       "    obs: 'Gene', 'Replicate', 'Pool', 'Experiment', 'n_counts', 'n_genes', 'CC', 'RP', 'RiBi', 'iESR', 'Mito', 'Cell Cycle', 'Other', 'pca_pt', 'denoised_leiden', 'denoised_n', 'denoised_pca_pt', 'time_pca_pt', 'denoised_cellrank_pt', 'denoised_dpt_pseudotime'\n",
       "    var: 'n_cells', 'CommonName', 'G1', 'G2', 'M', 'M-G1', 'Mito', 'RP', 'RiBi', 'S', 'iESR', 'Cell Cycle', 'Other', 'denoised_SNR', 'denoised_variance'\n",
       "    uns: 'CC_colors', 'DESeq_Pseudobulk', 'Pool_colors', 'denoised', 'denoised_SNR', 'denoised_pca', 'denoised_variance', 'leiden', 'neighbors', 'pca', 'umap'\n",
       "    obsm: 'X_pca', 'X_umap', 'denoised_pca'\n",
       "    varm: 'PCs'\n",
       "    layers: 'counts', 'denoised', 'denoised_velocity'\n",
       "    obsp: 'connectivities', 'denoised_connectivities', 'denoised_distances', 'denoised_graph', 'distances'"
      ]
     },
     "execution_count": 5,
     "metadata": {},
     "output_type": "execute_result"
    }
   ],
   "source": [
    "data.expt_data[(1, \"WT\")]"
   ]
  },
  {
   "cell_type": "code",
   "execution_count": 1,
   "metadata": {},
   "outputs": [
    {
     "ename": "NameError",
     "evalue": "name 'decay' is not defined",
     "output_type": "error",
     "traceback": [
      "\u001b[0;31m---------------------------------------------------------------------------\u001b[0m",
      "\u001b[0;31mNameError\u001b[0m                                 Traceback (most recent call last)",
      "\u001b[0;32m<ipython-input-1-a16bddbdc70b>\u001b[0m in \u001b[0;36m<module>\u001b[0;34m\u001b[0m\n\u001b[0;32m----> 1\u001b[0;31m \u001b[0mdecays\u001b[0m\u001b[0;34m,\u001b[0m \u001b[0mdecays_se\u001b[0m\u001b[0;34m,\u001b[0m \u001b[0malphas\u001b[0m \u001b[0;34m=\u001b[0m \u001b[0mdecay\u001b[0m\u001b[0;34m.\u001b[0m\u001b[0mcalc_decay\u001b[0m\u001b[0;34m(\u001b[0m\u001b[0mdata\u001b[0m\u001b[0;34m.\u001b[0m\u001b[0mexpt_data\u001b[0m\u001b[0;34m[\u001b[0m\u001b[0;34m(\u001b[0m\u001b[0;36m1\u001b[0m\u001b[0;34m,\u001b[0m \u001b[0;34m\"WT\"\u001b[0m\u001b[0;34m)\u001b[0m\u001b[0;34m]\u001b[0m\u001b[0;34m.\u001b[0m\u001b[0mlayers\u001b[0m\u001b[0;34m[\u001b[0m\u001b[0;34m'denoised'\u001b[0m\u001b[0;34m]\u001b[0m\u001b[0;34m,\u001b[0m \u001b[0mdata\u001b[0m\u001b[0;34m.\u001b[0m\u001b[0mexpt_data\u001b[0m\u001b[0;34m[\u001b[0m\u001b[0;34m(\u001b[0m\u001b[0;36m1\u001b[0m\u001b[0;34m,\u001b[0m \u001b[0;34m\"WT\"\u001b[0m\u001b[0;34m)\u001b[0m\u001b[0;34m]\u001b[0m\u001b[0;34m.\u001b[0m\u001b[0mlayers\u001b[0m\u001b[0;34m[\u001b[0m\u001b[0;34m'denoised_velocity'\u001b[0m\u001b[0;34m]\u001b[0m\u001b[0;34m)\u001b[0m\u001b[0;34m\u001b[0m\u001b[0;34m\u001b[0m\u001b[0m\n\u001b[0m",
      "\u001b[0;31mNameError\u001b[0m: name 'decay' is not defined"
     ]
    }
   ],
   "source": [
    "decays, decays_se, alphas = decay.calc_decay(data.expt_data[(1, \"WT\")].layers['denoised'], data.expt_data[(1, \"WT\")].layers['denoised_velocity'])"
   ]
  },
  {
   "cell_type": "code",
   "execution_count": 17,
   "metadata": {},
   "outputs": [
    {
     "data": {
      "text/plain": [
       "(5747, 1, 1)"
      ]
     },
     "execution_count": 17,
     "metadata": {},
     "output_type": "execute_result"
    }
   ],
   "source": [
    "decays.shape"
   ]
  },
  {
   "cell_type": "code",
   "execution_count": null,
   "metadata": {},
   "outputs": [],
   "source": [
    "import matplotlib\n",
    "import matplotlib.pyplot as plt\n",
    "import matplotlib.cm as cm\n",
    "import matplotlib.colors as colors\n",
    "import anndata as ad\n",
    "import numpy as np\n",
    "import pandas as pd\n",
    "import scanpy as sc"
   ]
  },
  {
   "cell_type": "code",
   "execution_count": null,
   "metadata": {},
   "outputs": [],
   "source": [
    "rgen = np.random.default_rng(100)\n",
    "\n",
    "panel_genes = [\"YPR036W-A\", \"YOR063W\"]\n",
    "\n",
    "panel_labels = {'expr_11': \"A\",\n",
    "                'velocity_11': \"B\",\n",
    "                'decay_11': \"C\"}\n",
    "\n",
    "panel_titles = {'title_1': \"SPO24\",\n",
    "                'title_2': \"RPL3\"}\n",
    "\n",
    "x_axis_labelers = {'x_lab_11': ('Time [min]', 0), \n",
    "                   'x_lab_21': ('Time [min]', 0.9), \n",
    "                   'x_lab_31': ('Expression [counts]', 0.9), \n",
    "                   'x_lab_12': ('Time [min]', 0), \n",
    "                   'x_lab_22': ('Time [min]', 0.9), \n",
    "                   'x_lab_32': ('Expression [counts]', 0.9)}\n",
    "\n",
    "layout = [['title_1', 'title_1', '.', 'title_2', 'title_2', '.'],\n",
    "          ['expr_11', 'expr_21', '.', 'expr_12', 'expr_22', 'time_lgd'],\n",
    "          ['x_lab_11', 'x_lab_11', '.', 'x_lab_12', 'x_lab_12', 'time_lgd'],\n",
    "          ['.'] * 5 + ['time_lgd'],\n",
    "          ['velocity_11', 'velocity_21', '.', 'velocity_12', 'velocity_22', 'time_lgd'],\n",
    "          ['x_lab_21', 'x_lab_21', '.', 'x_lab_22', 'x_lab_22', 'time_lgd'],\n",
    "          ['decay_11', 'decay_21', '.', 'decay_12', 'decay_22', 'time_lgd'],\n",
    "          ['x_lab_31', 'x_lab_31', '.', 'x_lab_32', 'x_lab_32', '.'],]\n",
    "\n",
    "fig_refs = {}\n",
    "\n",
    "fig, axd = plt.subplot_mosaic(layout,\n",
    "                              gridspec_kw=dict(width_ratios=[1, 1, 0.25, 1, 1, 0.2], \n",
    "                                               height_ratios=[0.05, 1, 0.2, 0.1, 1, 0.2, 1, 0.2],\n",
    "                                               wspace=0.35), \n",
    "                              figsize=(6, 6), dpi=300)\n",
    "\n",
    "def _minmax(arr):\n",
    "    return np.min(arr), np.max(arr)\n",
    "\n",
    "def _minmax_list(lst):\n",
    "    return min(l[0] for l in lst), max(l[1] for l in lst)\n",
    "\n",
    "def _get_limits(layer, mod_func=lambda x: x, symmetric=False):\n",
    "    limits = {g: _minmax_list([_minmax(mod_func(data.expt_data[(j, k)].layers[layer][:, data.expt_data[(j, k)].var_names == g])) \n",
    "                              for j in range(1, 3) \n",
    "                              for k in [\"WT\"]]) \n",
    "              for g in panel_genes}\n",
    "    \n",
    "    if not symmetric:\n",
    "        return {g: (np.floor(v[0]), np.ceil(v[1])) for g, v in limits.items()}\n",
    "    else:\n",
    "        return {g: (-1 * np.max(v), np.max(v)) for g, v in limits.items()}\n",
    "    \n",
    "\n",
    "expr_limits = _get_limits('denoised', mod_func = np.expm1)\n",
    "velocity_limits = _get_limits('denoised_velocity', symmetric=True)\n",
    "\n",
    "for a in ['title_1', 'title_2', 'time_lgd']:\n",
    "    axd[a].axis('off')\n",
    "    \n",
    "for axid, (lab, yoff) in x_axis_labelers.items():\n",
    "    axd[axid].axis('off')\n",
    "    axd[axid].annotate(lab, (0.5, yoff), xycoords='axes fraction', ha='center')\n",
    "\n",
    "\n",
    "def _minmax(arr):\n",
    "    return np.min(arr), np.max(arr)\n",
    "\n",
    "def _minmax_list(lst):\n",
    "    return min(l[0] for l in lst), max(l[1] for l in lst)\n",
    "\n",
    "def _get_limits(layer, mod_func=lambda x: x, symmetric=False):\n",
    "    limits = {g: _minmax_list([_minmax(mod_func(data.expt_data[(j, k)].layers[layer][:, data.expt_data[(j, k)].var_names == g])) \n",
    "                              for j in range(1, 3) \n",
    "                              for k in [\"WT\"]]) \n",
    "              for g in panel_genes}\n",
    "    \n",
    "    if not symmetric:\n",
    "        return {g: (np.floor(v[0]), np.ceil(v[1])) for g, v in limits.items()}\n",
    "    else:\n",
    "        return {g: (-1 * np.max(v), np.max(v)) for g, v in limits.items()}\n",
    "    \n",
    "\n",
    "expr_limits = _get_limits('denoised', mod_func = np.expm1)\n",
    "velocity_limits = _get_limits('denoised_velocity', symmetric=True)\n",
    "\n",
    "def _replot_axes(ax):\n",
    "    ax.spines['left'].set_position('zero')\n",
    "    ax.spines['right'].set_color('none')\n",
    "    ax.spines['bottom'].set_position('zero')\n",
    "    ax.spines['top'].set_color('none')\n",
    "               \n",
    "for j in range(1, 3):\n",
    "    pdata = data.expt_data[(j, \"WT\")]\n",
    "    for i, g in enumerate(panel_genes):\n",
    "        g_idx = pdata.var_names == g\n",
    "        \n",
    "        overplot_shuffle = np.arange(pdata.shape[0])\n",
    "        rgen.shuffle(overplot_shuffle)\n",
    "        \n",
    "        time_data = pdata.obs['time_pca_pt'].values[overplot_shuffle]\n",
    "        expr_data = np.expm1(pdata.layers['denoised'][:, g_idx]).flatten()[overplot_shuffle]\n",
    "        velocity_data = pdata.layers['denoised_velocity'][:, g_idx].flatten()[overplot_shuffle]\n",
    "        color_data = pdata.obs['Pool'].map({k: v for k, v in zip(range(1, 9), pool_palette())}).values[overplot_shuffle]\n",
    "        \n",
    "        ### PANEL A ###\n",
    "        a_ref = \"expr_\" + str(j) + str(i + 1)\n",
    "        fig_refs[a_ref] = axd[a_ref].scatter(x=time_data, \n",
    "                                             y=expr_data,\n",
    "                                             c=color_data,\n",
    "                                             alpha=0.25, \n",
    "                                             s=2)\n",
    "        axd[a_ref].set_xlim(0, 80)\n",
    "        axd[a_ref].set_xticks([0, 80])\n",
    "        axd[a_ref].set_ylim(*expr_limits[g])\n",
    "        axd[a_ref].set_yticks([]) if j == 2 else None\n",
    "        axd[a_ref].set_ylabel(\"Expression\\n[counts]\") if j == 1 and i == 0 else None\n",
    "        axd[a_ref].set_title(\"Rep.\" + str(j))\n",
    "        \n",
    "        ### PANEL B ###\n",
    "        b_ref = \"velocity_\" + str(j) + str(i + 1)\n",
    "        fig_refs[b_ref] = axd[b_ref].scatter(x=time_data, \n",
    "                                             y=velocity_data,\n",
    "                                             c=color_data,\n",
    "                                             alpha=0.25, \n",
    "                                             s=2)\n",
    "        \n",
    "        axd[b_ref].set_xlim(0, 80)\n",
    "        axd[b_ref].set_xticks([80])\n",
    "        axd[b_ref].set_ylim(*velocity_limits[g])\n",
    "        axd[b_ref].set_yticks([]) if j == 2 else None\n",
    "        axd[b_ref].set_ylabel(\"Velocity\\n[counts/min]\") if j == 1 and i == 0 else None\n",
    "\n",
    "        _replot_axes(axd[b_ref])\n",
    "        \n",
    "        ### PANEL C ###\n",
    "        c_ref = \"decay_\" + str(j) + str(i + 1)\n",
    "        fig_refs[c_ref] = axd[c_ref].scatter(x=expr_data, \n",
    "                                             y=velocity_data,\n",
    "                                             c=color_data,\n",
    "                                             alpha=0.25, \n",
    "                                             s=2)\n",
    "        \n",
    "        axd[c_ref].set_xlim(*expr_limits[g])\n",
    "        axd[c_ref].set_xticks([expr_limits[g][1]])\n",
    "        axd[c_ref].set_ylim(*velocity_limits[g])\n",
    "        axd[c_ref].set_yticks([]) if j == 2 else None\n",
    "        axd[c_ref].set_ylabel(\"Velocity\\n[counts/min]\") if j == 1 and i == 0 else None\n",
    "\n",
    "        _replot_axes(axd[c_ref])\n",
    "\n",
    "        \n",
    "fig_refs['time_lgd'] = add_legend(axd['time_lgd'], \n",
    "                                  pool_palette(), \n",
    "                                  data.all_data.obs['Pool'].dtype.categories.values,\n",
    "                                  title=\"Time\")\n",
    "\n",
    "\n",
    "for ax_id, label in panel_titles.items():\n",
    "    axd[ax_id].set_title(label, fontdict={'fontweight': 'bold', 'fontstyle': 'italic'})\n",
    "\n",
    "for ax_id, label in panel_labels.items():\n",
    "    axd[ax_id].set_title(label, loc='left', weight='bold')\n",
    "    \n",
    "fig.savefig(FIGURE_3_FILE_NAME + \".png\", facecolor='white')\n",
    "        "
   ]
  },
  {
   "cell_type": "code",
   "execution_count": null,
   "metadata": {},
   "outputs": [],
   "source": []
  }
 ],
 "metadata": {
  "kernelspec": {
   "display_name": "Python 3 (ipykernel)",
   "language": "python",
   "name": "python3"
  },
  "language_info": {
   "codemirror_mode": {
    "name": "ipython",
    "version": 3
   },
   "file_extension": ".py",
   "mimetype": "text/x-python",
   "name": "python",
   "nbconvert_exporter": "python",
   "pygments_lexer": "ipython3",
   "version": "3.8.6"
  }
 },
 "nbformat": 4,
 "nbformat_minor": 4
}
