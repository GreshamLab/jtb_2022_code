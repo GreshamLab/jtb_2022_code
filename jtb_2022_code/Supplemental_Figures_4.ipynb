{
 "cells": [
  {
   "cell_type": "code",
   "execution_count": 1,
   "id": "82ce5622",
   "metadata": {},
   "outputs": [
    {
     "ename": "ModuleNotFoundError",
     "evalue": "No module named 'jtb_2022_code'",
     "output_type": "error",
     "traceback": [
      "\u001b[0;31m---------------------------------------------------------------------------\u001b[0m",
      "\u001b[0;31mModuleNotFoundError\u001b[0m                       Traceback (most recent call last)",
      "\u001b[0;32m/var/folders/3p/bpt7hfyx1x1364q_4ygq675m0000gn/T/ipykernel_19291/1164501200.py\u001b[0m in \u001b[0;36m<module>\u001b[0;34m\u001b[0m\n\u001b[0;32m----> 1\u001b[0;31m \u001b[0;32mfrom\u001b[0m \u001b[0mjtb_2022_code\u001b[0m\u001b[0;34m.\u001b[0m\u001b[0mfigure_4_supplemental\u001b[0m \u001b[0;32mimport\u001b[0m \u001b[0msupplemental_figure_4_plot_data\u001b[0m\u001b[0;34m\u001b[0m\u001b[0;34m\u001b[0m\u001b[0m\n\u001b[0m",
      "\u001b[0;31mModuleNotFoundError\u001b[0m: No module named 'jtb_2022_code'"
     ]
    }
   ],
   "source": [
    "from jtb_2022_code.figure_4_supplemental import supplemental_figure_4_plot_data"
   ]
  },
  {
   "cell_type": "code",
   "execution_count": null,
   "id": "f5d29b1d",
   "metadata": {},
   "outputs": [],
   "source": []
  }
 ],
 "metadata": {
  "kernelspec": {
   "display_name": "Python (supirfactor_working)",
   "language": "python",
   "name": "supirfactor_working"
  },
  "language_info": {
   "codemirror_mode": {
    "name": "ipython",
    "version": 3
   },
   "file_extension": ".py",
   "mimetype": "text/x-python",
   "name": "python",
   "nbconvert_exporter": "python",
   "pygments_lexer": "ipython3",
   "version": "3.8.5"
  }
 },
 "nbformat": 4,
 "nbformat_minor": 5
}
