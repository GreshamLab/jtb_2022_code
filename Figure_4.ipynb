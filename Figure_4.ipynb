{
 "cells": [
  {
   "cell_type": "code",
   "execution_count": 1,
   "metadata": {},
   "outputs": [],
   "source": [
    "### JUPYTER NOTEBOOK / MODULE PATH FIX ###\n",
    "import sys\n",
    "\n",
    "if \"/share/apps/python/3.8.6/intel/lib/python3.8\" in sys.path and sys.path[1] == '':\n",
    "    sys.path[1], sys.path[6] = sys.path[6], sys.path[1]"
   ]
  },
  {
   "cell_type": "code",
   "execution_count": 2,
   "metadata": {},
   "outputs": [],
   "source": [
    "from jtb_2022_code.utils.figure_common import *\n",
    "from jtb_2022_code.utils.adata_common import *\n",
    "from jtb_2022_code.utils.pseudotime_common import (do_pca_pt, spearman_rho_pools, spearman_rho_grid, \n",
    "                                                   do_denoised_pca, calc_rhos, do_time_assign_by_pool)\n",
    "from jtb_2022_code import FigureSingleCellData\n",
    "\n",
    "from inferelator_prior.velocity.programs import sparse_PCA\n",
    "\n",
    "import matplotlib\n",
    "import matplotlib.pyplot as plt\n",
    "import matplotlib.cm as cm\n",
    "import matplotlib.colors as colors\n",
    "import anndata as ad\n",
    "import numpy as np\n",
    "import pandas as pd\n",
    "import scanpy as sc\n",
    "from scipy.stats import spearmanr"
   ]
  },
  {
   "cell_type": "code",
   "execution_count": 3,
   "metadata": {},
   "outputs": [
    {
     "name": "stdout",
     "output_type": "stream",
     "text": [
      "Reading Single Cell Data from /scratch/cj59/RAPA/2021_RAPA_TIMECOURSE_FIGS.h5ad\n",
      "Reading Single Cell Experiment Data from /scratch/cj59/RAPA/2021_RAPA_TIMECOURSE_FIGS_1_WT.h5ad\n",
      "Reading Single Cell Experiment Data from /scratch/cj59/RAPA/2021_RAPA_TIMECOURSE_FIGS_1_fpr1.h5ad\n",
      "Reading Single Cell Experiment Data from /scratch/cj59/RAPA/2021_RAPA_TIMECOURSE_FIGS_2_WT.h5ad\n",
      "Reading Single Cell Experiment Data from /scratch/cj59/RAPA/2021_RAPA_TIMECOURSE_FIGS_2_fpr1.h5ad\n"
     ]
    },
    {
     "name": "stderr",
     "output_type": "stream",
     "text": [
      "100%|██████████| 3/3 [04:23<00:00, 87.84s/it]\n",
      "100%|██████████| 3/3 [01:11<00:00, 23.96s/it]\n",
      "100%|██████████| 3/3 [06:13<00:00, 124.47s/it]\n",
      "100%|██████████| 3/3 [01:15<00:00, 25.24s/it]\n"
     ]
    }
   ],
   "source": [
    "data = FigureSingleCellData()\n",
    "data.apply_inplace_to_expts(sparse_PCA, alphas=np.array([0.1, 1, 10]))"
   ]
  },
  {
   "cell_type": "code",
   "execution_count": 5,
   "metadata": {},
   "outputs": [
    {
     "data": {
      "text/plain": [
       "<jtb_2022_code.utils.figure_data.FigureSingleCellData at 0x1552d01970a0>"
      ]
     },
     "execution_count": 5,
     "metadata": {},
     "output_type": "execute_result"
    }
   ],
   "source": [
    "data"
   ]
  },
  {
   "cell_type": "code",
   "execution_count": 8,
   "metadata": {},
   "outputs": [
    {
     "data": {
      "text/plain": [
       "{'alphas': array([ 0.1,  1. , 10. ]),\n",
       " 'loadings': [array([[-5.24493756e-05, -2.06855383e-03,  1.93848933e-03, ...,\n",
       "           9.20310946e-03, -2.51396760e-04,  1.01339261e-02],\n",
       "         [-4.48367307e-03, -8.05384433e-03, -9.42495119e-03, ...,\n",
       "           1.28339190e-02,  3.04614743e-02, -1.67541379e-02],\n",
       "         [-6.43130533e-04,  1.43188058e-03,  3.34804820e-04, ...,\n",
       "          -3.28065231e-03,  1.17416526e-03, -9.85077643e-03],\n",
       "         ...,\n",
       "         [-9.47236155e-05,  3.21590581e-03,  6.20944084e-03, ...,\n",
       "           1.21783145e-02,  1.79180435e-02,  8.68706707e-03],\n",
       "         [-5.79735906e-04, -1.14150401e-03, -2.85502010e-03, ...,\n",
       "           0.00000000e+00, -1.48315903e-02,  1.53080187e-02],\n",
       "         [ 3.41276288e-05,  2.25688225e-03,  5.32980494e-03, ...,\n",
       "          -2.76652205e-03,  1.61084729e-02,  2.88053316e-03]]),\n",
       "  array([[ 0.00000000e+00,  0.00000000e+00,  0.00000000e+00, ...,\n",
       "           7.01259576e-03,  0.00000000e+00,  0.00000000e+00],\n",
       "         [-2.72119010e-03, -7.18549264e-05, -2.23433497e-03, ...,\n",
       "           2.18627436e-03,  0.00000000e+00,  0.00000000e+00],\n",
       "         [-4.58844285e-04,  0.00000000e+00,  0.00000000e+00, ...,\n",
       "           0.00000000e+00,  0.00000000e+00,  0.00000000e+00],\n",
       "         ...,\n",
       "         [-1.68428321e-04,  2.96986043e-04, -3.52613509e-04, ...,\n",
       "           0.00000000e+00,  0.00000000e+00,  0.00000000e+00],\n",
       "         [ 0.00000000e+00,  0.00000000e+00, -6.91233078e-04, ...,\n",
       "           0.00000000e+00,  0.00000000e+00,  0.00000000e+00],\n",
       "         [ 0.00000000e+00,  1.81021539e-04,  1.42709329e-03, ...,\n",
       "          -1.78700960e-02,  6.52277626e-02,  3.68842366e-04]]),\n",
       "  array([[ 0.        ,  0.        ,  0.        , ...,  0.        ,\n",
       "           0.        ,  0.        ],\n",
       "         [-0.00150827,  0.        ,  0.        , ...,  0.        ,\n",
       "           0.        ,  0.        ],\n",
       "         [ 0.        ,  0.        ,  0.        , ...,  0.        ,\n",
       "           0.        ,  0.        ],\n",
       "         ...,\n",
       "         [ 0.        ,  0.        ,  0.        , ...,  0.        ,\n",
       "           0.        ,  0.        ],\n",
       "         [ 0.        ,  0.        ,  0.        , ...,  0.        ,\n",
       "           0.        ,  0.        ],\n",
       "         [ 0.        ,  0.        ,  0.        , ...,  0.        ,\n",
       "           0.        ,  0.        ]])],\n",
       " 'mse': array([1.06046968, 0.95475697, 0.95390911]),\n",
       " 'nnz': array([561461., 374144.,  27169.]),\n",
       " 'nnz_genes': array([5740., 5740., 5489.]),\n",
       " 'opt_alpha': 10.0}"
      ]
     },
     "execution_count": 8,
     "metadata": {},
     "output_type": "execute_result"
    }
   ],
   "source": [
    "data.expt_data[(2, \"WT\")].uns['sparse_pca']"
   ]
  }
 ],
 "metadata": {
  "kernelspec": {
   "display_name": "Python 3 (ipykernel)",
   "language": "python",
   "name": "python3"
  },
  "language_info": {
   "codemirror_mode": {
    "name": "ipython",
    "version": 3
   },
   "file_extension": ".py",
   "mimetype": "text/x-python",
   "name": "python",
   "nbconvert_exporter": "python",
   "pygments_lexer": "ipython3",
   "version": "3.8.6"
  }
 },
 "nbformat": 4,
 "nbformat_minor": 4
}
