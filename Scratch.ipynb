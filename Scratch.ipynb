{
 "cells": [
  {
   "cell_type": "code",
   "execution_count": 4,
   "metadata": {},
   "outputs": [],
   "source": [
    "import pandas as pd\n",
    "import fsspec\n",
    "\n",
    "def DataFile(x):\n",
    "    return x\n",
    "\n",
    "CHROME_USERAGENT = \"Mozilla/5.0 (X11; Linux x86_64) AppleWebKit/537.36 (KHTML, like Gecko) Chrome/98.0.4758.102 Safari/537.36\"\n",
    "\n",
    "DECAY_CONSTANT_FILES = {'Neymotin2014': ('tsv', \"Syst\", \"thalf\", None),\n",
    "                        'Chan2018': ('tsv', \"gene_id\", [\"halflife_160412_r1\", \"halflife_160412_r2\"], None),\n",
    "                        'Geisberg2015': ('excel', \"systematic name\", \"Half-Life           (in minutes)\", 'openpyxl'),\n",
    "                        'Munchel2011': ('excel', \"Systematic Name\", \"Half-life [min]\", 'xlrd'),\n",
    "                        'Miller2011': ('tsv', \"X1\", \"wt\", None)}\n",
    "                        \n",
    "DECAY_CONSTANT_LINKS = {'Neymotin2014': \"https://rnajournal.cshlp.org/content/suppl/2014/08/08/rna.045104.114.DC1/TableS5.xls\",\n",
    "                        'Chan2018': \"https://cdn.elifesciences.org/articles/32536/elife-32536-fig1-data2-v4.txt\",\n",
    "                        'Geisberg2015': \"https://www.cell.com/cms/10.1016/j.cell.2013.12.026/attachment/5d358c57-4ca0-4216-be37-3cc5c909b375/mmc1.xlsx\",\n",
    "                        'Munchel2011': \"https://www.molbiolcell.org/doi/suppl/10.1091/mbc.e11-01-0028/suppl_file/mc-e11-01-0028-s10.xls\",\n",
    "                        'Miller2011': \"https://www.embopress.org/action/downloadSupplement?doi=10.1038%2Fmsb.2010.112&file=msb2010112-sup-0001.txt\"}\n",
    "                        "
   ]
  },
  {
   "cell_type": "code",
   "execution_count": 5,
   "metadata": {},
   "outputs": [],
   "source": [
    "def _process_all_links(genes):\n",
    "    \n",
    "    return pd.concat([_process_link(genes, x)\n",
    "                      for x in DECAY_CONSTANT_LINKS.keys()],\n",
    "                     axis=1)\n",
    "\n",
    "def _process_link(genes, dataset):\n",
    "        \n",
    "    file_type, gene_col, hl_col, engine = DECAY_CONSTANT_FILES[dataset]\n",
    "    \n",
    "    with fsspec.open(DECAY_CONSTANT_LINKS[dataset], client_kwargs = {'headers': {'User-Agent': CHROME_USERAGENT}}) as f:\n",
    "        if file_type == 'tsv':\n",
    "            df = pd.read_csv(f, sep=\"\\t\", index_col=0 if gene_col == \"X1\" else None)\n",
    "        elif file_type == 'excel':\n",
    "            df = pd.read_excel(f, engine=engine)\n",
    "        else:\n",
    "            raise ValueError(\"Bad file_type\")\n",
    "    \n",
    "    df, hl_col = _process_df_hl(df, genes, gene_col, hl_col)\n",
    "    df.rename({hl_col: dataset}, axis=1, inplace=True)\n",
    "    \n",
    "    return df[[dataset]]\n",
    "\n",
    "\n",
    "def _process_df_hl(df, genes, gene_col, hl_col):\n",
    "\n",
    "    if gene_col == \"X1\":\n",
    "        df.index.name = \"X1\"\n",
    "        df.reset_index(inplace=True)\n",
    "\n",
    "    if isinstance(hl_col, list):\n",
    "        df['means'] = df[hl_col].mean(axis=1)\n",
    "        hl_col = 'means'\n",
    "\n",
    "    df = df[[gene_col, hl_col]].groupby(gene_col).agg('mean')\n",
    "    df = df.reindex(genes, axis=0)\n",
    "    \n",
    "    return df, hl_col"
   ]
  },
  {
   "cell_type": "code",
   "execution_count": 6,
   "metadata": {},
   "outputs": [
    {
     "name": "stderr",
     "output_type": "stream",
     "text": [
      "/home/cj59/.local/lib/python3.8/site-packages/openpyxl/worksheet/_reader.py:312: UserWarning: Unknown extension is not supported and will be removed\n",
      "  warn(msg)\n"
     ]
    },
    {
     "data": {
      "text/html": [
       "<div>\n",
       "<style scoped>\n",
       "    .dataframe tbody tr th:only-of-type {\n",
       "        vertical-align: middle;\n",
       "    }\n",
       "\n",
       "    .dataframe tbody tr th {\n",
       "        vertical-align: top;\n",
       "    }\n",
       "\n",
       "    .dataframe thead th {\n",
       "        text-align: right;\n",
       "    }\n",
       "</style>\n",
       "<table border=\"1\" class=\"dataframe\">\n",
       "  <thead>\n",
       "    <tr style=\"text-align: right;\">\n",
       "      <th></th>\n",
       "      <th>Geisberg2015</th>\n",
       "    </tr>\n",
       "    <tr>\n",
       "      <th>systematic name</th>\n",
       "      <th></th>\n",
       "    </tr>\n",
       "  </thead>\n",
       "  <tbody>\n",
       "    <tr>\n",
       "      <th>YPR036W-A</th>\n",
       "      <td>39.929172</td>\n",
       "    </tr>\n",
       "    <tr>\n",
       "      <th>YOR063W</th>\n",
       "      <td>13.747064</td>\n",
       "    </tr>\n",
       "  </tbody>\n",
       "</table>\n",
       "</div>"
      ],
      "text/plain": [
       "                 Geisberg2015\n",
       "systematic name              \n",
       "YPR036W-A           39.929172\n",
       "YOR063W             13.747064"
      ]
     },
     "execution_count": 6,
     "metadata": {},
     "output_type": "execute_result"
    }
   ],
   "source": [
    "_process_link([\"YPR036W-A\", \"YOR063W\"], 'Geisberg2015')"
   ]
  },
  {
   "cell_type": "code",
   "execution_count": null,
   "metadata": {},
   "outputs": [],
   "source": [
    "_process_link([\"YPR036W-A\", \"YOR063W\"], 'Chan2018')"
   ]
  },
  {
   "cell_type": "code",
   "execution_count": null,
   "metadata": {},
   "outputs": [],
   "source": [
    "_process_link([\"YPR036W-A\", \"YOR063W\"], 'Miller2011')"
   ]
  },
  {
   "cell_type": "code",
   "execution_count": null,
   "metadata": {},
   "outputs": [],
   "source": [
    "dataset = \"Miller2011\"\n",
    "with fsspec.open(DECAY_CONSTANT_LINKS[dataset], client_kwargs = {'headers': {'User-Agent': CHROME_USERAGENT}}) as f:\n",
    "    df = pd.read_csv(f, sep=\"\\t\")"
   ]
  },
  {
   "cell_type": "code",
   "execution_count": null,
   "metadata": {},
   "outputs": [],
   "source": [
    "df.c"
   ]
  },
  {
   "cell_type": "code",
   "execution_count": null,
   "metadata": {},
   "outputs": [],
   "source": [
    "_process_link([\"YPR036W-A\", \"YOR063W\"], 'Munchel2011', file_type=\"excel\")"
   ]
  },
  {
   "cell_type": "code",
   "execution_count": null,
   "metadata": {},
   "outputs": [],
   "source": [
    "_process_all_links([\"YPR036W-A\", \"YOR063W\"])"
   ]
  }
 ],
 "metadata": {
  "kernelspec": {
   "display_name": "Python 3 (ipykernel)",
   "language": "python",
   "name": "python3"
  },
  "language_info": {
   "codemirror_mode": {
    "name": "ipython",
    "version": 3
   },
   "file_extension": ".py",
   "mimetype": "text/x-python",
   "name": "python",
   "nbconvert_exporter": "python",
   "pygments_lexer": "ipython3",
   "version": "3.8.6"
  }
 },
 "nbformat": 4,
 "nbformat_minor": 4
}
