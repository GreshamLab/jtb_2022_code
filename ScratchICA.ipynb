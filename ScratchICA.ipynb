{
 "cells": [
  {
   "cell_type": "code",
   "execution_count": 1,
   "metadata": {},
   "outputs": [],
   "source": [
    "### JUPYTER NOTEBOOK / MODULE PATH FIX ###\n",
    "import sys\n",
    "\n",
    "if \"/share/apps/python/3.8.6/intel/lib/python3.8\" in sys.path and sys.path[1] == '':\n",
    "    sys.path[1], sys.path[6] = sys.path[6], sys.path[1]"
   ]
  },
  {
   "cell_type": "code",
   "execution_count": 2,
   "metadata": {},
   "outputs": [
    {
     "name": "stderr",
     "output_type": "stream",
     "text": [
      "/home/cj59/.local/lib/python3.8/site-packages/anndata/_core/anndata.py:121: ImplicitModificationWarning: Transforming to str index.\n",
      "  warnings.warn(\"Transforming to str index.\", ImplicitModificationWarning)\n"
     ]
    },
    {
     "name": "stdout",
     "output_type": "stream",
     "text": [
      "Loading gene names from /home/cj59/Documents/jtb_2022_code/Data/yeast_gene_names.tsv\n",
      "Loading gene metadata from /home/cj59/Documents/jtb_2022_code/Data/STable6.tsv\n",
      "Assigning Cell Cycle ['M-G1', 'G1', 'S', 'G2', 'M']\n"
     ]
    }
   ],
   "source": [
    "import anndata as ad\n",
    "import numpy as np\n",
    "import scanpy as sc\n",
    "import functools\n",
    "import jtb_2022_code\n",
    "import gc\n",
    "import inferelator_velocity as ifv\n",
    "from jtb_2022_code.utils.figure_data import _gene_metadata\n",
    "\n",
    "data = ad.read(\"/scratch/cj59/RAPA/2021_RAPA_TIMECOURSE.h5ad\")\n",
    "_gene_metadata(data)\n",
    "data.var['category'] = \"NA\"\n",
    "data.var.loc[functools.reduce(lambda x, y: x | data.var[y], [data.var['G1'], 'G2', 'M', 'M-G1', 'S']), 'category'] = \"CC\"\n",
    "data.var.loc[functools.reduce(lambda x, y: data.var[x] | data.var[y], ['RP', 'RiBi']), 'category'] = \"RP\"\n",
    "\n",
    "data.layers['counts'] = data.X.copy()\n",
    "data.obs['n_counts'] = data.X.sum(axis=1).astype(int).A1\n",
    "jtb_2022_code.utils.figure_data._call_cc(data)\n",
    "\n",
    "CC_TIME_ORDER = {\n",
    "    'M-G1': ('G1', 7, 22.5),\n",
    "    'G1': ('S', 22.5, 39.5),\n",
    "    'S': ('G2', 39.5, 56.5),\n",
    "    'G2': ('M', 56.5, 77.5), \n",
    "    'M': ('M-G1', 77.5, 95)\n",
    "}\n",
    "\n",
    "RAPA_TIME_ORDER = {\n",
    "    '12': ('3', -5, 5),\n",
    "    '3': ('4', 5, 15),\n",
    "    '4': ('5', 15, 25),\n",
    "    '5': ('6', 25, 35), \n",
    "    '6': ('7', 35, 45),\n",
    "    '7': ('8', 45, 55)\n",
    "}   "
   ]
  },
  {
   "cell_type": "code",
   "execution_count": 3,
   "metadata": {},
   "outputs": [
    {
     "data": {
      "text/plain": [
       "473"
      ]
     },
     "execution_count": 3,
     "metadata": {},
     "output_type": "execute_result"
    }
   ],
   "source": [
    "expt1_idx = data.obs['Experiment'] == 2\n",
    "expt1_idx &= data.obs['Gene'] == \"WT\"\n",
    "expt1 = ad.AnnData(data.X[expt1_idx, :].copy(), \n",
    "                   obs=data.obs.loc[expt1_idx, :].copy(),\n",
    "                   var=data.var.copy(), dtype=int)\n",
    "\n",
    "rgen = np.random.default_rng(100)\n",
    "select_shuffle = np.arange(expt1.shape[0])\n",
    "rgen.shuffle(select_shuffle)\n",
    "expt1_test = expt1[select_shuffle[:15000], :].copy()\n",
    "\n",
    "del expt1\n",
    "del data\n",
    "\n",
    "expt1_test.obs['Pool_Combined'] = expt1_test.obs['Pool'].astype(str)\n",
    "expt1_test.obs.loc[expt1_test.obs['Pool_Combined'] == '1', 'Pool_Combined'] = '12'\n",
    "expt1_test.obs.loc[expt1_test.obs['Pool_Combined'] == '2', 'Pool_Combined'] = '12'\n",
    "expt1_test.layers['counts'] = expt1_test.X.copy()\n",
    "\n",
    "gc.collect()"
   ]
  },
  {
   "cell_type": "code",
   "execution_count": 4,
   "metadata": {},
   "outputs": [
    {
     "data": {
      "text/plain": [
       "AnnData object with n_obs × n_vars = 15000 × 5843\n",
       "    obs: 'Gene', 'Replicate', 'Pool', 'Experiment', 'n_counts', 'CC', 'Pool_Combined'\n",
       "    var: 'CommonName', 'G1', 'G2', 'M', 'M-G1', 'Mito', 'RP', 'RiBi', 'S', 'iESR', 'category'\n",
       "    layers: 'counts'"
      ]
     },
     "execution_count": 4,
     "metadata": {},
     "output_type": "execute_result"
    }
   ],
   "source": [
    "expt1_test"
   ]
  },
  {
   "cell_type": "code",
   "execution_count": 5,
   "metadata": {},
   "outputs": [
    {
     "name": "stderr",
     "output_type": "stream",
     "text": [
      "100%|██████████| 11/11 [11:14<00:00, 61.32s/it, 105 PCs]\n"
     ]
    }
   ],
   "source": [
    "res = ifv.utils.knn_noise2self(expt1_test.X)\n",
    "    \n",
    "expt1_test.uns['opt'] = {}\n",
    "expt1_test.uns['opt']['pcs'] = res[1]\n",
    "expt1_test.uns['opt']['neighbors'] = res[2]\n",
    "expt1_test.obs['opt_k'] = res[3]\n",
    "expt1_test.obsp['opt_distances'] = res[0]"
   ]
  },
  {
   "cell_type": "code",
   "execution_count": 6,
   "metadata": {},
   "outputs": [
    {
     "data": {
      "text/plain": [
       "AnnData object with n_obs × n_vars = 15000 × 5843\n",
       "    obs: 'Gene', 'Replicate', 'Pool', 'Experiment', 'n_counts', 'CC', 'Pool_Combined', 'opt_k'\n",
       "    var: 'CommonName', 'G1', 'G2', 'M', 'M-G1', 'Mito', 'RP', 'RiBi', 'S', 'iESR', 'category'\n",
       "    uns: 'opt'\n",
       "    layers: 'counts'\n",
       "    obsp: 'opt_distances'"
      ]
     },
     "execution_count": 6,
     "metadata": {},
     "output_type": "execute_result"
    }
   ],
   "source": [
    "expt1_test"
   ]
  },
  {
   "cell_type": "code",
   "execution_count": 7,
   "metadata": {},
   "outputs": [
    {
     "name": "stderr",
     "output_type": "stream",
     "text": [
      "100%|██████████| 11/11 [10:45<00:00, 58.72s/it, 105 PCs]\n",
      "100%|██████████| 101/101 [00:45<00:00,  2.24it/s]\n",
      "100%|██████████| 101/101 [00:07<00:00, 13.98it/s]\n",
      "100%|██████████| 101/101 [00:37<00:00,  2.69it/s]\n"
     ]
    },
    {
     "data": {
      "text/plain": [
       "AnnData object with n_obs × n_vars = 15000 × 5843\n",
       "    obs: 'Gene', 'Replicate', 'Pool', 'Experiment', 'n_counts', 'CC', 'Pool_Combined', 'opt_k', 'program_0_time', 'program_1_time'\n",
       "    var: 'CommonName', 'G1', 'G2', 'M', 'M-G1', 'Mito', 'RP', 'RiBi', 'S', 'iESR', 'category', 'leiden', 'program'\n",
       "    uns: 'opt', 'noise2self', 'programs', 'program_0_pca', 'program_1_pca'\n",
       "    obsm: 'program_0_pca', 'program_1_pca'\n",
       "    layers: 'counts'\n",
       "    obsp: 'opt_distances', 'noise2self_distance_graph'"
      ]
     },
     "execution_count": 7,
     "metadata": {},
     "output_type": "execute_result"
    }
   ],
   "source": [
    "from inferelator_velocity import program_select, program_times, wrap_times, global_graph\n",
    "\n",
    "global_graph(expt1_test)\n",
    "program_select(expt1_test)\n",
    "\n",
    "program_times(expt1_test, \n",
    "              {'0':  \"CC\", '1':  \"Pool_Combined\"}, \n",
    "              {'0': CC_TIME_ORDER, '1': RAPA_TIME_ORDER})"
   ]
  },
  {
   "cell_type": "code",
   "execution_count": 10,
   "metadata": {},
   "outputs": [
    {
     "data": {
      "text/plain": [
       "AnnData object with n_obs × n_vars = 15000 × 5843\n",
       "    obs: 'Gene', 'Replicate', 'Pool', 'Experiment', 'n_counts', 'CC', 'Pool_Combined', 'opt_k', 'program_0_time', 'program_1_time'\n",
       "    var: 'CommonName', 'G1', 'G2', 'M', 'M-G1', 'Mito', 'RP', 'RiBi', 'S', 'iESR', 'category', 'leiden', 'program'\n",
       "    uns: 'opt', 'noise2self', 'programs', 'program_0_pca', 'program_1_pca'\n",
       "    obsm: 'program_0_pca', 'program_1_pca'\n",
       "    layers: 'counts'\n",
       "    obsp: 'opt_distances', 'noise2self_distance_graph'"
      ]
     },
     "execution_count": 10,
     "metadata": {},
     "output_type": "execute_result"
    }
   ],
   "source": [
    "expt1_test"
   ]
  },
  {
   "cell_type": "code",
   "execution_count": 9,
   "metadata": {},
   "outputs": [
    {
     "name": "stderr",
     "output_type": "stream",
     "text": [
      "100%|██████████| 15000/15000 [00:21<00:00, 688.12it/s]\n"
     ]
    }
   ],
   "source": [
    "import numpy as _np\n",
    "from scipy.sparse import issparse as _is_sparse\n",
    "from tqdm import trange\n",
    "\n",
    "def calc_velocity(expr, time_axis, neighbor_graph, wrap_time=None):\n",
    "    \"\"\"\n",
    "    Calculate local RNA velocity\n",
    "\n",
    "    :param expr: Samples x Genes numpy with expression data\n",
    "    :param time_axis: Samples, numpy array\n",
    "    :param neighbor_graph: Samples x Samples numpy or scipy.sparse with nearest neighbor distances\n",
    "    :return: Samples x Genes numpy with velocity data\n",
    "    \"\"\"\n",
    "\n",
    "    times = [_calc_local_velocity(expr[n_idx, :].copy(),\n",
    "                                  time_axis[n_idx].copy(),\n",
    "                                  (n_idx == i).nonzero()[0][0],\n",
    "                                  wrap_time=wrap_time)\n",
    "             for i, n_idx in _find_local(expr, neighbor_graph)]\n",
    "    \n",
    "    shape_1 = max(map(len, times))\n",
    "    \n",
    "    times = [np.concatenate((x, np.zeros(shape_1 - len(x), dtype=float)))\n",
    "             for x in times]\n",
    "    \n",
    "    return np.vstack(times)\n",
    "\n",
    "\n",
    "def _calc_local_velocity(expr, time_axis, center_index, wrap_time=None):\n",
    "    \"\"\"\n",
    "    Calculate a local rate of change\n",
    "\n",
    "    :param expr: Samples x Genes numpy with expression data\n",
    "    :param time_axis: Samples, numpy array\n",
    "    :param center_index: The data point which we're calculating velocity for\n",
    "    :return:\n",
    "    \"\"\"\n",
    "\n",
    "    n, m = expr.shape\n",
    "\n",
    "    if _np.isnan(time_axis[center_index]):\n",
    "        return _np.full(m, _np.nan)\n",
    "\n",
    "    time_axis = time_axis - time_axis[center_index]\n",
    "\n",
    "    if wrap_time is not None:\n",
    "        time_axis = _wrap_time(time_axis, wrap_time)\n",
    "\n",
    "    return time_axis\n",
    "\n",
    "\n",
    "def _find_local(expr, neighbor_graph):\n",
    "    \"\"\"\n",
    "    Find a return an expression matrix for a locally connected graph\n",
    "\n",
    "    :param expr: Samples x Genes numpy or scipy with expression data\n",
    "    :type expr: np.ndarray, sp.sparse.csr_matrix\n",
    "    :param neighbor_graph: Samples x Samples connectivity matrix,\n",
    "        where any non-zero value is connected.\n",
    "    :return:\n",
    "    \"\"\"\n",
    "\n",
    "    n, m = expr.shape\n",
    "    neighbor_sparse = _is_sparse(neighbor_graph)\n",
    "\n",
    "    for i in trange(n):\n",
    "\n",
    "        n_slice = neighbor_graph[i, :]\n",
    "\n",
    "        if neighbor_sparse:\n",
    "            keepers = n_slice.indices\n",
    "        else:\n",
    "            keepers = _np.where(n_slice != 0)[0]\n",
    "\n",
    "        if all(keepers != i):\n",
    "            keepers = _np.insert(keepers, 0, i)\n",
    "\n",
    "        yield i, keepers\n",
    "\n",
    "\n",
    "def _wrap_time(times, wrap_time):\n",
    "    \"\"\"\n",
    "    Wrap times by taking the minimum time difference\n",
    "    with and without wrapping\n",
    "\n",
    "    :param times: Centered time vector\n",
    "    :type times: np.ndarray\n",
    "    :param wrap_time: Time to wrap at\n",
    "    :type wrap_time: numeric\n",
    "    :return: Wrapped time vector\n",
    "    :rtype: np.ndarray\n",
    "    \"\"\"\n",
    "\n",
    "    times = _np.vstack((\n",
    "        times + wrap_time,\n",
    "        times,\n",
    "        times - wrap_time\n",
    "    ))\n",
    "\n",
    "    times = times[\n",
    "        _np.argmin(\n",
    "            _np.abs(times),\n",
    "            axis=0\n",
    "        ),\n",
    "        _np.arange(\n",
    "            times.shape[1]\n",
    "        )\n",
    "    ]\n",
    "\n",
    "    return times\n",
    "\n",
    "_twrap = calc_velocity(\n",
    "    expt1_test.X,\n",
    "    expt1_test.obs['program_0_time'],\n",
    "    expt1_test.obsp['noise2self_distance_graph'],\n",
    "    wrap_time=88\n",
    ")"
   ]
  },
  {
   "cell_type": "code",
   "execution_count": 12,
   "metadata": {},
   "outputs": [
    {
     "data": {
      "text/plain": [
       "array([[  0.        ,  -4.27426529,  -3.11457062, ...,   0.        ,\n",
       "          0.        ,   0.        ],\n",
       "       [  0.        ,   0.39295864,   1.15004921, ...,   3.61700249,\n",
       "          3.24136257,  -0.0364027 ],\n",
       "       [  0.        ,   2.85430527,   1.89223099, ...,   0.        ,\n",
       "          0.        ,   0.        ],\n",
       "       ...,\n",
       "       [  0.        ,  -0.12387085,   2.89168358, ...,  -9.74834633,\n",
       "          3.65340519,   0.        ],\n",
       "       [  0.        ,   1.98967743,   2.62481689, ...,   0.        ,\n",
       "          0.        ,   0.        ],\n",
       "       [  0.        , -15.27108383,   2.68398666, ...,   0.        ,\n",
       "          0.        ,   0.        ]])"
      ]
     },
     "execution_count": 12,
     "metadata": {},
     "output_type": "execute_result"
    }
   ],
   "source": [
    "_twrap"
   ]
  },
  {
   "cell_type": "code",
   "execution_count": null,
   "metadata": {},
   "outputs": [],
   "source": [
    "_CC_TIME_SPIN = {\n",
    "    'M-G1': ('G1', 51, 66.5),\n",
    "    'G1': ('S', 66.5, 83.5),\n",
    "    'S': ('G2', 83.5, 100.5),\n",
    "    'G2': ('M', 12.5, 33.5), \n",
    "    'M': ('M-G1', 33.5, 51)\n",
    "}\n",
    "\n",
    "program_times(expt1_test, \n",
    "              {'0':  \"CC\", '1':  \"Pool_Combined\"}, \n",
    "              {'0': _CC_TIME_SPIN, '1': RAPA_TIME_ORDER})"
   ]
  },
  {
   "cell_type": "code",
   "execution_count": 14,
   "metadata": {},
   "outputs": [
    {
     "data": {
      "text/plain": [
       "<AxesSubplot:xlabel='program_0_time'>"
      ]
     },
     "execution_count": 14,
     "metadata": {},
     "output_type": "execute_result"
    },
    {
     "data": {
      "image/png": "[encoded data removed]",
      "text/plain": [
       "<Figure size 432x288 with 1 Axes>"
      ]
     },
     "metadata": {
      "needs_background": "light"
     },
     "output_type": "display_data"
    }
   ],
   "source": [
    "import seaborn as sns\n",
    "\n",
    "_idx_sort = np.argsort(expt1_test.obs['program_0_time'])\n",
    "_times = expt1_test.obs['program_0_time'].iloc[_idx_sort]\n",
    "_tmeans = np.abs(_twrap).max(axis=1)[_idx_sort]\n",
    "\n",
    "sns.scatterplot(\n",
    "    x=_times,\n",
    "    y=_tmeans,\n",
    "    c=expt1_test.obs['CC'].cat.codes[_idx_sort],\n",
    "    alpha=0.2\n",
    ")"
   ]
  },
  {
   "cell_type": "code",
   "execution_count": 15,
   "metadata": {},
   "outputs": [
    {
     "data": {
      "text/plain": [
       "{'G1': (15000,),\n",
       " 'G2': (15000,),\n",
       " 'M': (15000,),\n",
       " 'M-G1': (15000,),\n",
       " 'S': (15000,)}"
      ]
     },
     "execution_count": 15,
     "metadata": {},
     "output_type": "execute_result"
    }
   ],
   "source": [
    "mean_expr = {i: np.sum(expt1_test.X[:, expt1_test.var[i]], axis=1).A1.shape for i in ['G1', 'G2', 'M', 'M-G1', 'S']}\n",
    "mean_expr"
   ]
  },
  {
   "cell_type": "code",
   "execution_count": null,
   "metadata": {},
   "outputs": [],
   "source": [
    "from jtb_2022_code.utils.dewakss_common import _do_dewakss\n",
    "\n",
    "_do_dewakss(expt1_test)\n",
    "expt1_test.layers['denoised'] = np.expm1(expt1_test.layers['denoised'])\n",
    "\n",
    "expt1_test.write(\"/scratch/cj59/TEST_RAPA_DATA.h5ad\")\n"
   ]
  },
  {
   "cell_type": "code",
   "execution_count": null,
   "metadata": {},
   "outputs": [],
   "source": [
    "expt1_test"
   ]
  },
  {
   "cell_type": "code",
   "execution_count": null,
   "metadata": {},
   "outputs": [],
   "source": [
    "expt1_test.layers['rapa_velocity'] = ifv.velocity.calc_velocity(\n",
    "    expt1_test.layers['denoised'],\n",
    "    expt1_test.obs['program_1_time'].values,\n",
    "    expt1_test.obsp['denoised_distances'],\n",
    "    105\n",
    ")"
   ]
  },
  {
   "cell_type": "code",
   "execution_count": null,
   "metadata": {},
   "outputs": [],
   "source": [
    "expt1_test.write(\"/scratch/cj59/TEST_RAPA_DATA.h5ad\")"
   ]
  },
  {
   "cell_type": "code",
   "execution_count": null,
   "metadata": {},
   "outputs": [],
   "source": [
    "import inferelator_velocity as ifv\n",
    "\n",
    "ifv.times.wrap_times(expt1_test, '0', 88)\n",
    "\n",
    "#ifv.pl.program_time_summary(expt1_test, '0', wrap_time=88)\n",
    "ifv.pl.program_time_summary(expt1_test, '1')"
   ]
  },
  {
   "cell_type": "code",
   "execution_count": null,
   "metadata": {},
   "outputs": [],
   "source": []
  },
  {
   "cell_type": "code",
   "execution_count": null,
   "metadata": {},
   "outputs": [],
   "source": [
    "import matplotlib.pyplot as plt\n",
    "from matplotlib import colors\n",
    "from matplotlib import cm\n",
    "import pandas as pd\n",
    "import numpy as np\n",
    "\n",
    "def _get_colors(values, color_dict):\n",
    "    \"\"\"\n",
    "    Convert a vector of labels to a vector of colors\n",
    "    using a dict of labels -> colors\n",
    "\n",
    "    :param values: Vector of labels\n",
    "    :type values: np.ndarray\n",
    "    :param color_dict: Dict of labels -> colors\n",
    "    :type color_dict: dict\n",
    "    :return: Vector of colors\n",
    "    :rtype: np.ndarray\n",
    "    \"\"\"\n",
    "\n",
    "    c = np.empty_like(values, dtype=object)\n",
    "    for k, col in color_dict.items():\n",
    "        c[values == k] = col\n",
    "\n",
    "    return c\n",
    "\n",
    "\n",
    "cluster_order = expt1_test.uns['program_1_pca']['cluster_order']\n",
    "\n",
    "n = len(cluster_order)\n",
    "cbar_cmap = cm.get_cmap('plasma', n)\n",
    "\n",
    "cluster_colors = {cluster_order[i]: colors.rgb2hex(cbar_cmap(i))\n",
    "                  for i in range(n)}"
   ]
  },
  {
   "cell_type": "code",
   "execution_count": null,
   "metadata": {},
   "outputs": [],
   "source": [
    "expt1_test.uns['program_1_pca']['assignment_names']"
   ]
  },
  {
   "cell_type": "code",
   "execution_count": null,
   "metadata": {},
   "outputs": [],
   "source": [
    "_color_vector = _get_colors(expt1_test.obs['Pool_Combined'].values, cluster_colors)\n",
    "_color_vector"
   ]
  },
  {
   "cell_type": "code",
   "execution_count": null,
   "metadata": {},
   "outputs": [],
   "source": [
    "\n",
    "centroids = {k: expt1_prog1.obs_names.get_loc(expt1_prog1.obs_names[expt1_prog1.obs['CC'] == k][idx])\n",
    "             for k, idx in get_centroids(expt1_prog1.obsm['X_pca'], expt1_prog1.obs['CC']).items()}\n",
    "\n",
    "centroid_cc_ids = list(centroids.keys())\n",
    "centroid_indices = [centroids[k] for k in centroid_cc_ids]\n"
   ]
  },
  {
   "cell_type": "code",
   "execution_count": null,
   "metadata": {},
   "outputs": [],
   "source": [
    "graph_dist, graph_pred = dijkstra(expt1_prog1.obsp['distances'], directed=False, indices=centroid_indices, return_predecessors=True)"
   ]
  },
  {
   "cell_type": "code",
   "execution_count": null,
   "metadata": {},
   "outputs": [],
   "source": [
    "import itertools\n",
    "\n",
    "n_centroids = len(centroid_indices)\n",
    "\n",
    "shortest_paths = np.zeros((n_centroids, n_centroids), dtype=object)\n",
    "\n",
    "for left, right in itertools.product(range(n_centroids), range(n_centroids)):\n",
    "    start = centroid_indices[left]\n",
    "    pred_arr = graph_pred[left, :]\n",
    "    \n",
    "    current_loc = centroid_indices[right]\n",
    "    path = [current_loc]\n",
    "    \n",
    "    while current_loc != start:\n",
    "        current_loc = pred_arr[current_loc]\n",
    "        path.append(current_loc)\n",
    "        \n",
    "    shortest_paths[left, right] = path\n",
    "    "
   ]
  },
  {
   "cell_type": "code",
   "execution_count": null,
   "metadata": {},
   "outputs": [],
   "source": [
    "np.vectorize(len)(shortest_paths)"
   ]
  },
  {
   "cell_type": "code",
   "execution_count": null,
   "metadata": {},
   "outputs": [],
   "source": [
    "total_path = []\n",
    "total_path_centroids = {}\n",
    "\n",
    "for i, (left, (right, _, _)) in enumerate(centroid_order.items()):\n",
    "    _link_path = shortest_paths[[right == x for x in centroid_cc_ids],\n",
    "                                [left == x for x in centroid_cc_ids]][0]\n",
    "    \n",
    "    total_path_centroids[left] = len(total_path)\n",
    "    total_path.extend(_link_path[int(i > 0):])\n",
    "    \n",
    "step_dist = np.array([\n",
    "    max(\n",
    "        expt1_prog1.obsp['distances'][total_path[x], total_path[x + 1]], \n",
    "        expt1_prog1.obsp['distances'][total_path[x + 1], total_path[x]]\n",
    "    ) for x in range(0, len(total_path) - 1)\n",
    "])\n",
    "\n",
    "nearest_point_on_path = dijkstra(expt1_prog1.obsp['distances'], directed=False, indices=total_path[:-1]).argmin(axis=0)"
   ]
  },
  {
   "cell_type": "code",
   "execution_count": null,
   "metadata": {},
   "outputs": [],
   "source": [
    "func_times = _calculate_program_time(expt1_prog1.layers['counts'], expt1_prog1.obs['CC'].values, centroid_order)\n",
    "func_times[func_times > 1] = func_times[func_times > 1] - 1\n"
   ]
  },
  {
   "cell_type": "code",
   "execution_count": null,
   "metadata": {},
   "outputs": [],
   "source": [
    "program_times(expt1_prog1, 'CC', centroid_order, layer='counts', programs='0')"
   ]
  },
  {
   "cell_type": "code",
   "execution_count": null,
   "metadata": {},
   "outputs": [],
   "source": []
  },
  {
   "cell_type": "code",
   "execution_count": null,
   "metadata": {},
   "outputs": [],
   "source": [
    "ndims = 2\n",
    "\n",
    "centroid_times = np.zeros((expt1_prog1.shape[0], n_centroids), dtype=float)    \n",
    "times = np.full(expt1_prog1.shape[0], np.nan, dtype=float)    \n",
    "\n",
    "for i, (left, (right, left_time, right_time)) in enumerate(centroid_order.items()):   \n",
    "    x_right = expt1_prog1.obsm['X_pca'][centroids[right], 0:2]\n",
    "    x_left = expt1_prog1.obsm['X_pca'][centroids[left], 0:2]\n",
    "        \n",
    "    x = x_right - x_left\n",
    "    \n",
    "    x_proj = np.dot(\n",
    "        expt1_prog1.obsm['X_pca'][:, 0:2] - x_left, \n",
    "        x\n",
    "    ) \n",
    "    x_proj = x_proj / np.linalg.norm(x)\n",
    "    \n",
    "    x_proj_left = x_proj[centroids[left]]\n",
    "    x_proj_right = x_proj[centroids[right]]\n",
    "    \n",
    "    print(f\"{left} / {right}: {x_proj.min()} - {x_proj.max()} [{x_proj_left} - {x_proj_right}]\")\n",
    "\n",
    "    # Normalize so left centroid is scalar 0 and right centroid is scalar 1\n",
    "    x_proj = (x_proj - x_proj_left) / (x_proj_right - x_proj_left)\n",
    "    \n",
    "    # Convert to times\n",
    "    centroid_times[:, i] = x_proj * (right_time - left_time) + left_time\n",
    "\n",
    "    applicable_points = nearest_point_on_path >= total_path_centroids[left]\n",
    "    applicable_points &= nearest_point_on_path < (total_path_centroids[right] if total_path_centroids[right] != 0 else len(total_path) - 1)\n",
    "    x_app = centroid_times[applicable_points, i]\n",
    "    \n",
    "    times[applicable_points] = centroid_times[applicable_points, i]\n",
    "       \n",
    "    print(f\"{left} / {right}: {x_app.min()} - {x_app.max()} [{centroid_times[centroids[left], i]} - {centroid_times[centroids[right], i]}]\")\n",
    "\n",
    "    \n",
    "#for i, (left, (right, left_time, right_time)) in enumerate(centroid_order.items()):\n",
    "#    right = total_path_centroids[right] if right != 'M-G1' else len(total_path[:-1])\n",
    "#    applicable_points = nearest_point_on_path >= total_path_centroids[left]\n",
    "#    applicable_points &= nearest_point_on_path < right\n",
    "#    times[applicable_points] = np.dot(expt1_prog1.obsm['X_pca'][applicable_points, 0:ndims], \n",
    "#                                      regression_coefs[i, :])\n",
    "\n",
    "times[times > 1] = times[times > 1] - 1\n",
    "    \n",
    "print(f\"Times: {times.min()} - {times.max()} [0 - 1]\")"
   ]
  },
  {
   "cell_type": "code",
   "execution_count": null,
   "metadata": {},
   "outputs": [],
   "source": [
    "x_proj"
   ]
  },
  {
   "cell_type": "code",
   "execution_count": null,
   "metadata": {},
   "outputs": [],
   "source": [
    "import matplotlib.pyplot as plt\n",
    "from jtb_2022_code.figure_constants import *\n",
    "from jtb_2022_code.utils.figure_common import *\n",
    "import pandas as pd\n",
    "\n",
    "fig, axd = plt.subplot_mosaic([['prog1_pca', 'M-G1', 'G1'], ['prog1_pca_2', 'S', 'G2'], ['pca_cc_cbar', 'M', 'hist']],\n",
    "                              gridspec_kw=dict(width_ratios=[1, 1, 1], \n",
    "                                               height_ratios=[1, 1, 1],\n",
    "                                               wspace=0.3, hspace=0.3), \n",
    "                              figsize=(6, 6), dpi=300)\n",
    "\n",
    "def _get_time_hist(data, groups, min_time, max_time):\n",
    "    cuts = np.arange(min_time, max_time + 1)\n",
    "    return [np.bincount(pd.cut(data[groups == x], \n",
    "                               cuts, labels=np.arange(len(cuts) - 1)).dropna(),\n",
    "                        minlength=len(cuts) - 1) for x in CC_COLS]\n",
    "\n",
    "def plt_time_histogram(times, groups, ax, bins=50):\n",
    "    \n",
    "    hist_limit, fref = [], []\n",
    "    hist_labels = np.linspace(0.5, bins - 0.5, bins)\n",
    "    \n",
    "    bottom_line = None\n",
    "    for j, hist_data in enumerate(_get_time_hist(times * bins, groups, 0, bins)):\n",
    "\n",
    "        bottom_line = np.zeros_like(hist_data) if bottom_line is None else bottom_line\n",
    "\n",
    "        fref.append(ax.bar(hist_labels, \n",
    "                           hist_data, \n",
    "                           bottom=bottom_line, \n",
    "                           width=0.5, \n",
    "                           color=cc_palette()[j]))\n",
    "\n",
    "        bottom_line = bottom_line + hist_data\n",
    "\n",
    "        hist_limit.append(np.max(np.abs(bottom_line)))\n",
    "\n",
    "    hist_limit = max(hist_limit)\n",
    "    ax.set_ylim(0, hist_limit)\n",
    "    ax.set_xlabel(\"Time [min]\")\n",
    "    ax.set_xlim(0, bins)\n",
    "                        \n",
    "    return fref\n",
    "\n",
    "rgen = np.random.default_rng(123)\n",
    "overplot_shuffle = np.arange(expt1_prog1.X.shape[0])\n",
    "rgen.shuffle(overplot_shuffle)\n",
    "\n",
    "_xlim = expt1_prog1.obsm['X_pca'][:, 0].min(), expt1_prog1.obsm['X_pca'][:, 0].max()\n",
    "_ylim = expt1_prog1.obsm['X_pca'][:, 1].min(), expt1_prog1.obsm['X_pca'][:, 1].max()\n",
    "\n",
    "\n",
    "axd['prog1_pca'].set_title(\"Program PCA\")\n",
    "\n",
    "axd['prog1_pca'].scatter(expt1_prog1.obsm['X_pca'][overplot_shuffle, 0], expt1_prog1.obsm['X_pca'][overplot_shuffle, 1], \n",
    "                      c=expt1_prog1.obs['CC'].map({k: v for k, v in zip(CC_COLS, cc_palette())}).values[overplot_shuffle],\n",
    "                      s=1, alpha=0.5)\n",
    "\n",
    "axd['prog1_pca'].scatter(expt1_prog1.obsm['X_pca'][centroid_indices, 0], expt1_prog1.obsm['X_pca'][centroid_indices, 1], \n",
    "                         c='None', edgecolor='black',\n",
    "                         s=150, alpha=1)\n",
    "\n",
    "axd['prog1_pca'].plot(expt1_prog1.obsm['X_pca'][total_path, 0], expt1_prog1.obsm['X_pca'][total_path, 1], \n",
    "                      '-ok', color='black', markersize=3, linewidth=1)\n",
    "\n",
    "axd['prog1_pca'].set_yticklabels([])\n",
    "axd['prog1_pca'].set_xticklabels([])\n",
    "axd['prog1_pca'].set_xticks([])\n",
    "axd['prog1_pca'].set_yticks([])\n",
    "axd['prog1_pca'].set_xlabel(\"PC1\")\n",
    "axd['prog1_pca'].set_ylabel(\"PC2\")\n",
    "axd['prog1_pca'].set_xlim(_xlim)\n",
    "axd['prog1_pca'].set_ylim(_ylim)\n",
    "\n",
    "\n",
    "for i, (left, (right, left_time, right_time)) in enumerate(centroid_order.items()):\n",
    "    axd['prog1_pca'].plot(expt1_prog1.obsm['X_pca'][[centroids[left], centroids[right]], 0], \n",
    "                          expt1_prog1.obsm['X_pca'][[centroids[left], centroids[right]], 1],\n",
    "                          ls = '--', color='black',\n",
    "                          alpha = 0.5,\n",
    "                          lw = 1)\n",
    "    \n",
    "axd['prog1_pca_2'].scatter(expt1_prog1.obsm['X_pca'][overplot_shuffle, 0], expt1_prog1.obsm['X_pca'][overplot_shuffle, 2], \n",
    "                           c=expt1_prog1.obs['CC'].map({k: v for k, v in zip(CC_COLS, cc_palette())}).values[overplot_shuffle],\n",
    "                           s=1, alpha=0.5)\n",
    "axd['prog1_pca_2'].set_xlabel(\"PC1\")\n",
    "axd['prog1_pca_2'].set_ylabel(\"PC3\")\n",
    "axd['prog1_pca_2'].set_yticklabels([])\n",
    "axd['prog1_pca_2'].set_xticklabels([])\n",
    "axd['prog1_pca_2'].set_xticks([])\n",
    "axd['prog1_pca_2'].set_yticks([])\n",
    "axd['prog1_pca_2'].set_xlim(_xlim)\n",
    "axd['prog1_pca_2'].set_ylim(_ylim)\n",
    "\n",
    "for i, (left, (right, left_time, right_time)) in enumerate(centroid_order.items()):\n",
    "    applicable_points = nearest_point_on_path >= total_path_centroids[left]\n",
    "    applicable_points &= nearest_point_on_path < (total_path_centroids[right] if right != 'M-G1' else len(total_path[:-1]))\n",
    "    \n",
    "    axd[left].scatter(expt1_prog1.obsm['X_pca'][applicable_points, 0], expt1_prog1.obsm['X_pca'][applicable_points, 1], \n",
    "                      c=expt1_prog1.obs['CC'].map({k: v for k, v in zip(CC_COLS, cc_palette())}).values[applicable_points],\n",
    "                      s=1, alpha=0.5)\n",
    "    \n",
    "    axd[left].scatter(expt1_prog1.obsm['X_pca'][[centroids[left], centroids[right]], 0], \n",
    "                      expt1_prog1.obsm['X_pca'][[centroids[left], centroids[right]], 1], \n",
    "                      c='None', edgecolor='black',\n",
    "                      s=150, alpha=1)\n",
    "    \n",
    "    _right = total_path_centroids[right] if total_path_centroids[right] != 0 else len(total_path) - 1\n",
    "    axd[left].plot(expt1_prog1.obsm['X_pca'][total_path[max(total_path_centroids[left] - 1, 0):_right], 0], \n",
    "                   expt1_prog1.obsm['X_pca'][total_path[max(total_path_centroids[left] - 1, 0):_right], 1], \n",
    "                   '-ok', color='black', markersize=3, linewidth=1)\n",
    "    \n",
    "    axd[left].set_title(f\"{left} / {right}\")\n",
    "    axd[left].set_xticklabels([])\n",
    "    axd[left].set_yticklabels([])\n",
    "    axd[left].set_xlim(_xlim)\n",
    "    axd[left].set_ylim(_ylim)\n",
    "    \n",
    "plt_time_histogram(func_times, expt1_prog1.obs['CC'], axd['hist'], bins=88)\n",
    "axd['hist'].set_title(\"Cell Times\")\n",
    "    \n",
    "add_legend(axd['pca_cc_cbar'], cc_palette(), CC_COLS, title=\"Phase\")\n",
    "axd['pca_cc_cbar'].axis('off')"
   ]
  },
  {
   "cell_type": "code",
   "execution_count": null,
   "metadata": {},
   "outputs": [],
   "source": [
    "np.quantile(times, (0.05, 0.95))"
   ]
  },
  {
   "cell_type": "code",
   "execution_count": null,
   "metadata": {},
   "outputs": [],
   "source": [
    "_all_points"
   ]
  },
  {
   "cell_type": "code",
   "execution_count": null,
   "metadata": {},
   "outputs": [],
   "source": [
    "print(len(total_path))\n",
    "sum(x == y for y in total_path for x in total_path)"
   ]
  },
  {
   "cell_type": "code",
   "execution_count": null,
   "metadata": {},
   "outputs": [],
   "source": [
    "import matplotlib.pyplot as plt\n",
    "\n",
    "from jtb_2022_code.figure_constants import *\n",
    "from jtb_2022_code.utils.figure_common import *\n",
    "\n",
    "fig, axd = plt.subplot_mosaic([['prog1_pca', 'pca_cc_cbar'], ['prog1_hist', 'pca_t_cbar']],\n",
    "                              gridspec_kw=dict(width_ratios=[1, 0.2], \n",
    "                                               height_ratios=[1, 1],\n",
    "                                               wspace=0.25, hspace=0.25), \n",
    "                              figsize=(4, 4), dpi=300)\n",
    "\n",
    "rgen = np.random.default_rng(123)\n",
    "overplot_shuffle = np.arange(expt1_prog1.X.shape[0])\n",
    "rgen.shuffle(overplot_shuffle)\n",
    "\n",
    "\n",
    "axd['prog1_pca'].set_title(\"Program PCA\")\n",
    "\n",
    "axd['prog1_pca'].scatter(expt1_prog1.obsm['X_pca'][overplot_shuffle, 0], expt1_prog1.obsm['X_pca'][overplot_shuffle, 1], \n",
    "                      c=expt1_prog1.obs['CC'].map({k: v for k, v in zip(CC_COLS, cc_palette())}).values[overplot_shuffle],\n",
    "                      s=1, alpha=0.5)\n",
    "\n",
    "axd['prog1_pca'].scatter(expt1_prog1.obsm['X_pca'][centroid_indices, 0], expt1_prog1.obsm['X_pca'][centroid_indices, 1], \n",
    "                         c='None', edgecolor='black',\n",
    "                         s=150, alpha=1)\n",
    "\n",
    "axd['prog1_pca'].plot(expt1_prog1.obsm['X_pca'][total_path, 0], expt1_prog1.obsm['X_pca'][total_path, 1], \n",
    "                      '-ok', color='black', markersize=3, linewidth=1)\n",
    "\n",
    "axd['prog1_pca'].set_yticklabels([])\n",
    "axd['prog1_pca'].set_xticklabels([])\n",
    "axd['prog1_pca'].set_xticks([])\n",
    "axd['prog1_pca'].set_yticks([])\n",
    "\n",
    "for i, (left, (right, left_time, right_time)) in enumerate(centroid_order.items()):\n",
    "    axd['prog1_pca'].axline(expt1_prog1.obsm['X_pca'][centroids[left], 0:2], \n",
    "                            expt1_prog1.obsm['X_pca'][centroids[right], 0:2],\n",
    "                            ls = '--', color='black',\n",
    "                            alpha = 0.5,\n",
    "                            lw = 1)\n",
    "\n",
    "axd['prog1_hist'].scatter(times[overplot_shuffle], np.random.rand(len(times)), c=expt1_prog1.obs['CC'].map({k: v for k, v in zip(CC_COLS, cc_palette())}).values[overplot_shuffle],\n",
    "                          s=1, alpha=0.5)\n",
    "\n",
    "add_legend(axd['pca_t_cbar'], pool_palette(), list(range(1, 9)), title=\"Time\")\n",
    "axd['pca_t_cbar'].axis('off')\n",
    "\n",
    "add_legend(axd['pca_cc_cbar'], cc_palette(), CC_COLS, title=\"Phase\")\n",
    "axd['pca_cc_cbar'].axis('off')"
   ]
  },
  {
   "cell_type": "code",
   "execution_count": null,
   "metadata": {},
   "outputs": [],
   "source": [
    "centroid_indices"
   ]
  }
 ],
 "metadata": {
  "kernelspec": {
   "display_name": "Python 3 (ipykernel)",
   "language": "python",
   "name": "python3"
  },
  "language_info": {
   "codemirror_mode": {
    "name": "ipython",
    "version": 3
   },
   "file_extension": ".py",
   "mimetype": "text/x-python",
   "name": "python",
   "nbconvert_exporter": "python",
   "pygments_lexer": "ipython3",
   "version": "3.8.6"
  }
 },
 "nbformat": 4,
 "nbformat_minor": 4
}
