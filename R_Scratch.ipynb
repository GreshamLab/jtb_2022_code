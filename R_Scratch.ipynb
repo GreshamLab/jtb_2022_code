{
 "cells": [
  {
   "cell_type": "code",
   "execution_count": 1,
   "metadata": {},
   "outputs": [
    {
     "name": "stderr",
     "output_type": "stream",
     "text": [
      "Loading required package: readr\n",
      "\n"
     ]
    }
   ],
   "source": [
    "require(\"readr\")\n",
    "\n",
    "data.path <- '/scratch/cj59/RAPA/'\n",
    "out.path <- '/scratch/cj59/RAPA/shiny/'\n",
    "\n",
    "wide.file.names <- list(\n",
    "    expression=\"2021_RAPA_EXPRESSION.tsv.gz\",\n",
    "    denoised=\"2021_RAPA_DENOISED.tsv.gz\",\n",
    "    velocity=\"2021_RAPA_VELOCITY.tsv.gz\",\n",
    "    tfa_expression=\"2021_RAPA_TFA_EXPRESSION.tsv.gz\",\n",
    "    tfa_denoised=\"2021_RAPA_TFA_DENOISED.tsv.gz\",\n",
    "    tfa_velocity=\"2021_RAPA_TFA_VELOCITY.tsv.gz\",\n",
    "    tfa_decay_constant=\"2021_RAPA_TFA_DECAY_20MIN.tsv.gz\",\n",
    "    tfa_decay_latent=\"2021_RAPA_TFA_DECAY_LATENT.tsv.gz\"\n",
    ")\n",
    "\n",
    "agg.file.names <- list(\n",
    "    rapamycin=\"2021_RAPA_AGGREGATE_RAPAMYCIN.tsv.gz\",\n",
    "    cell_cycle=\"2021_RAPA_AGGREGATE_CELL_CYCLE.tsv.gz\"\n",
    ")\n",
    "    \n",
    "metadata.file.names <- list(\n",
    "    metadata=\"2021_RAPA_METADATA.tsv.gz\",\n",
    "    gene_metadata=\"2021_RAPA_GENE_METADATA.tsv.gz\"\n",
    ")\n",
    "\n",
    "load.tsv <- function(x) {\n",
    "    print(paste(\"Loading\", x))\n",
    "    y <- readr::read_tsv(file.path(data.path, x))\n",
    "    \n",
    "    if ('...1' %in% colnames(y)) {\n",
    "       y['gene'] <- y['...1']\n",
    "        y['...1'] <- NULL \n",
    "    }\n",
    "\n",
    "    return(y)\n",
    "}"
   ]
  },
  {
   "cell_type": "code",
   "execution_count": 2,
   "metadata": {},
   "outputs": [],
   "source": [
    "test.rds <- readRDS(file.path(out.path, \"YEL009C.rds\"))"
   ]
  },
  {
   "cell_type": "code",
   "execution_count": 6,
   "metadata": {},
   "outputs": [
    {
     "data": {
      "text/html": [
       "<table class=\"dataframe\">\n",
       "<caption>A tibble: 3 × 74</caption>\n",
       "<thead>\n",
       "\t<tr><th scope=col>-9.5</th><th scope=col>-8.5</th><th scope=col>-7.5</th><th scope=col>-6.5</th><th scope=col>-5.5</th><th scope=col>-4.5</th><th scope=col>-3.5</th><th scope=col>-2.5</th><th scope=col>-1.5</th><th scope=col>-0.5</th><th scope=col>⋯</th><th scope=col>54.5</th><th scope=col>55.5</th><th scope=col>56.5</th><th scope=col>57.5</th><th scope=col>58.5</th><th scope=col>59.5</th><th scope=col>agg_func</th><th scope=col>dataset</th><th scope=col>experiment</th><th scope=col>gene</th></tr>\n",
       "\t<tr><th scope=col>&lt;dbl&gt;</th><th scope=col>&lt;dbl&gt;</th><th scope=col>&lt;dbl&gt;</th><th scope=col>&lt;dbl&gt;</th><th scope=col>&lt;dbl&gt;</th><th scope=col>&lt;dbl&gt;</th><th scope=col>&lt;dbl&gt;</th><th scope=col>&lt;dbl&gt;</th><th scope=col>&lt;dbl&gt;</th><th scope=col>&lt;dbl&gt;</th><th scope=col>⋯</th><th scope=col>&lt;dbl&gt;</th><th scope=col>&lt;dbl&gt;</th><th scope=col>&lt;dbl&gt;</th><th scope=col>&lt;dbl&gt;</th><th scope=col>&lt;dbl&gt;</th><th scope=col>&lt;dbl&gt;</th><th scope=col>&lt;chr&gt;</th><th scope=col>&lt;chr&gt;</th><th scope=col>&lt;chr&gt;</th><th scope=col>&lt;chr&gt;</th></tr>\n",
       "</thead>\n",
       "<tbody>\n",
       "\t<tr><td>0.1155054</td><td>0.1030699</td><td>0.09664873</td><td>0.09945519</td><td>0.1168235</td><td>0.1153207</td><td>0.1285912</td><td>0.1277948</td><td>0.1336853</td><td>0.1152473</td><td>⋯</td><td>0.15397097</td><td>0.14901235</td><td>0.14200570</td><td>0.14538874</td><td>0.16507619</td><td>0.15087126</td><td>NA</td><td>decay_constants</td><td>1  </td><td>YEL009C</td></tr>\n",
       "\t<tr><td>0.1054430</td><td>0.0995140</td><td>0.09705604</td><td>0.08721061</td><td>0.1010539</td><td>0.1183023</td><td>0.1218369</td><td>0.1318656</td><td>0.1338618</td><td>0.1277203</td><td>⋯</td><td>0.04160186</td><td>0.04310948</td><td>0.04801858</td><td>0.04883974</td><td>0.05281252</td><td>0.05839893</td><td>NA</td><td>decay_constants</td><td>2  </td><td>YEL009C</td></tr>\n",
       "\t<tr><td>0.1171821</td><td>0.1118425</td><td>0.10939728</td><td>0.10059741</td><td>0.1095289</td><td>0.1178913</td><td>0.1250231</td><td>0.1303611</td><td>0.1336786</td><td>0.1222874</td><td>⋯</td><td>0.06201938</td><td>0.06192612</td><td>0.07066292</td><td>0.06609690</td><td>0.06465845</td><td>0.07169283</td><td>NA</td><td>decay_constants</td><td>ALL</td><td>YEL009C</td></tr>\n",
       "</tbody>\n",
       "</table>\n"
      ],
      "text/latex": [
       "A tibble: 3 × 74\n",
       "\\begin{tabular}{lllllllllllllllllllll}\n",
       " -9.5 & -8.5 & -7.5 & -6.5 & -5.5 & -4.5 & -3.5 & -2.5 & -1.5 & -0.5 & ⋯ & 54.5 & 55.5 & 56.5 & 57.5 & 58.5 & 59.5 & agg\\_func & dataset & experiment & gene\\\\\n",
       " <dbl> & <dbl> & <dbl> & <dbl> & <dbl> & <dbl> & <dbl> & <dbl> & <dbl> & <dbl> & ⋯ & <dbl> & <dbl> & <dbl> & <dbl> & <dbl> & <dbl> & <chr> & <chr> & <chr> & <chr>\\\\\n",
       "\\hline\n",
       "\t 0.1155054 & 0.1030699 & 0.09664873 & 0.09945519 & 0.1168235 & 0.1153207 & 0.1285912 & 0.1277948 & 0.1336853 & 0.1152473 & ⋯ & 0.15397097 & 0.14901235 & 0.14200570 & 0.14538874 & 0.16507619 & 0.15087126 & NA & decay\\_constants & 1   & YEL009C\\\\\n",
       "\t 0.1054430 & 0.0995140 & 0.09705604 & 0.08721061 & 0.1010539 & 0.1183023 & 0.1218369 & 0.1318656 & 0.1338618 & 0.1277203 & ⋯ & 0.04160186 & 0.04310948 & 0.04801858 & 0.04883974 & 0.05281252 & 0.05839893 & NA & decay\\_constants & 2   & YEL009C\\\\\n",
       "\t 0.1171821 & 0.1118425 & 0.10939728 & 0.10059741 & 0.1095289 & 0.1178913 & 0.1250231 & 0.1303611 & 0.1336786 & 0.1222874 & ⋯ & 0.06201938 & 0.06192612 & 0.07066292 & 0.06609690 & 0.06465845 & 0.07169283 & NA & decay\\_constants & ALL & YEL009C\\\\\n",
       "\\end{tabular}\n"
      ],
      "text/markdown": [
       "\n",
       "A tibble: 3 × 74\n",
       "\n",
       "| -9.5 &lt;dbl&gt; | -8.5 &lt;dbl&gt; | -7.5 &lt;dbl&gt; | -6.5 &lt;dbl&gt; | -5.5 &lt;dbl&gt; | -4.5 &lt;dbl&gt; | -3.5 &lt;dbl&gt; | -2.5 &lt;dbl&gt; | -1.5 &lt;dbl&gt; | -0.5 &lt;dbl&gt; | ⋯ ⋯ | 54.5 &lt;dbl&gt; | 55.5 &lt;dbl&gt; | 56.5 &lt;dbl&gt; | 57.5 &lt;dbl&gt; | 58.5 &lt;dbl&gt; | 59.5 &lt;dbl&gt; | agg_func &lt;chr&gt; | dataset &lt;chr&gt; | experiment &lt;chr&gt; | gene &lt;chr&gt; |\n",
       "|---|---|---|---|---|---|---|---|---|---|---|---|---|---|---|---|---|---|---|---|---|\n",
       "| 0.1155054 | 0.1030699 | 0.09664873 | 0.09945519 | 0.1168235 | 0.1153207 | 0.1285912 | 0.1277948 | 0.1336853 | 0.1152473 | ⋯ | 0.15397097 | 0.14901235 | 0.14200570 | 0.14538874 | 0.16507619 | 0.15087126 | NA | decay_constants | 1   | YEL009C |\n",
       "| 0.1054430 | 0.0995140 | 0.09705604 | 0.08721061 | 0.1010539 | 0.1183023 | 0.1218369 | 0.1318656 | 0.1338618 | 0.1277203 | ⋯ | 0.04160186 | 0.04310948 | 0.04801858 | 0.04883974 | 0.05281252 | 0.05839893 | NA | decay_constants | 2   | YEL009C |\n",
       "| 0.1171821 | 0.1118425 | 0.10939728 | 0.10059741 | 0.1095289 | 0.1178913 | 0.1250231 | 0.1303611 | 0.1336786 | 0.1222874 | ⋯ | 0.06201938 | 0.06192612 | 0.07066292 | 0.06609690 | 0.06465845 | 0.07169283 | NA | decay_constants | ALL | YEL009C |\n",
       "\n"
      ],
      "text/plain": [
       "  -9.5      -8.5      -7.5       -6.5       -5.5      -4.5      -3.5     \n",
       "1 0.1155054 0.1030699 0.09664873 0.09945519 0.1168235 0.1153207 0.1285912\n",
       "2 0.1054430 0.0995140 0.09705604 0.08721061 0.1010539 0.1183023 0.1218369\n",
       "3 0.1171821 0.1118425 0.10939728 0.10059741 0.1095289 0.1178913 0.1250231\n",
       "  -2.5      -1.5      -0.5      ⋯ 54.5       55.5       56.5       57.5      \n",
       "1 0.1277948 0.1336853 0.1152473 ⋯ 0.15397097 0.14901235 0.14200570 0.14538874\n",
       "2 0.1318656 0.1338618 0.1277203 ⋯ 0.04160186 0.04310948 0.04801858 0.04883974\n",
       "3 0.1303611 0.1336786 0.1222874 ⋯ 0.06201938 0.06192612 0.07066292 0.06609690\n",
       "  58.5       59.5       agg_func dataset         experiment gene   \n",
       "1 0.16507619 0.15087126 NA       decay_constants 1          YEL009C\n",
       "2 0.05281252 0.05839893 NA       decay_constants 2          YEL009C\n",
       "3 0.06465845 0.07169283 NA       decay_constants ALL        YEL009C"
      ]
     },
     "metadata": {},
     "output_type": "display_data"
    }
   ],
   "source": [
    "test.rds$rapamycin[test.rds$rapamycin$dataset == \"decay_constants\", ]"
   ]
  },
  {
   "cell_type": "code",
   "execution_count": null,
   "metadata": {},
   "outputs": [],
   "source": [
    "test.rds"
   ]
  },
  {
   "cell_type": "code",
   "execution_count": null,
   "metadata": {},
   "outputs": [],
   "source": [
    "wide.data <- lapply(wide.file.names, load.tsv)\n",
    "agg.data <- lapply(agg.file.names, load.tsv)\n",
    "meta.data <- lapply(metadata.file.names, load.tsv)"
   ]
  },
  {
   "cell_type": "code",
   "execution_count": null,
   "metadata": {},
   "outputs": [],
   "source": [
    "get.data <- function(gene.name) {\n",
    "    list.obj <- list()\n",
    "    \n",
    "    for (dtype in names(wide.data)) {\n",
    "        if (gene.name %in% colnames(wide.data[[dtype]])) {\n",
    "            list.obj[[dtype]] <- wide.data[[dtype]][[gene.name]]\n",
    "        }\n",
    "    }\n",
    "        \n",
    "    for (dtype in names(agg.data)) {\n",
    "        adata <- agg.data[[dtype]][agg.data[[dtype]][['gene']] == gene.name, ]\n",
    "        \n",
    "        if (nrow(adata) > 0) {\n",
    "            list.obj[[dtype]] <- adata\n",
    "        }\n",
    "    }\n",
    "    \n",
    "    return(list.obj)\n",
    "}"
   ]
  },
  {
   "cell_type": "code",
   "execution_count": null,
   "metadata": {},
   "outputs": [],
   "source": [
    "pb <- txtProgressBar(\n",
    "    min = 0,\n",
    "    max = nrow(meta.data[['gene_metadata']]),\n",
    "    initial = 0\n",
    ") \n",
    "\n",
    "i <- 0\n",
    "\n",
    "for (gene.name in meta.data[['gene_metadata']][['gene']]) {\n",
    "    \n",
    "    saveRDS(\n",
    "        get.data(gene.name),\n",
    "        file=file.path(out.path, paste0(gene.name, \".rds\")),\n",
    "        compress=FALSE\n",
    "    )\n",
    "\n",
    "    i <- i + 1\n",
    "    setTxtProgressBar(pb,i)    \n",
    "}\n",
    "\n",
    "close(pb)"
   ]
  },
  {
   "cell_type": "code",
   "execution_count": null,
   "metadata": {},
   "outputs": [],
   "source": []
  }
 ],
 "metadata": {
  "kernelspec": {
   "display_name": "R 4.0.4",
   "language": "R",
   "name": "ir"
  },
  "language_info": {
   "codemirror_mode": "r",
   "file_extension": ".r",
   "mimetype": "text/x-r-source",
   "name": "R",
   "pygments_lexer": "r",
   "version": "4.0.4"
  }
 },
 "nbformat": 4,
 "nbformat_minor": 4
}
